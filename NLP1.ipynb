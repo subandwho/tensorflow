{
  "nbformat": 4,
  "nbformat_minor": 0,
  "metadata": {
    "colab": {
      "name": "NLP1.ipynb",
      "provenance": [],
      "collapsed_sections": [],
      "authorship_tag": "ABX9TyMVpyeCqWbyjP26lBeY9Uiu",
      "include_colab_link": true
    },
    "kernelspec": {
      "name": "python3",
      "display_name": "Python 3"
    },
    "language_info": {
      "name": "python"
    },
    "accelerator": "GPU"
  },
  "cells": [
    {
      "cell_type": "markdown",
      "metadata": {
        "id": "view-in-github",
        "colab_type": "text"
      },
      "source": [
        "<a href=\"https://colab.research.google.com/github/subandwho/tensorflow/blob/main/NLP1.ipynb\" target=\"_parent\"><img src=\"https://colab.research.google.com/assets/colab-badge.svg\" alt=\"Open In Colab\"/></a>"
      ]
    },
    {
      "cell_type": "code",
      "metadata": {
        "colab": {
          "base_uri": "https://localhost:8080/"
        },
        "id": "cyL4pQlld3_F",
        "outputId": "c7b1597d-6c9c-4bf5-fe7e-95f41c835612"
      },
      "source": [
        "!nvidia-smi -L"
      ],
      "execution_count": 1,
      "outputs": [
        {
          "output_type": "stream",
          "text": [
            "GPU 0: Tesla K80 (UUID: GPU-915dbe1e-9899-a301-b889-2fe899010346)\n"
          ],
          "name": "stdout"
        }
      ]
    },
    {
      "cell_type": "code",
      "metadata": {
        "colab": {
          "base_uri": "https://localhost:8080/"
        },
        "id": "wWV3BtQS_iO0",
        "outputId": "2e0f5d64-4f5b-4554-eed9-08e3cb617f3b"
      },
      "source": [
        "!wget https://raw.githubusercontent.com/mrdbourke/tensorflow-deep-learning/main/extras/helper_functions.py"
      ],
      "execution_count": 2,
      "outputs": [
        {
          "output_type": "stream",
          "text": [
            "--2021-07-21 08:30:11--  https://raw.githubusercontent.com/mrdbourke/tensorflow-deep-learning/main/extras/helper_functions.py\n",
            "Resolving raw.githubusercontent.com (raw.githubusercontent.com)... 185.199.109.133, 185.199.111.133, 185.199.108.133, ...\n",
            "Connecting to raw.githubusercontent.com (raw.githubusercontent.com)|185.199.109.133|:443... connected.\n",
            "HTTP request sent, awaiting response... 200 OK\n",
            "Length: 10246 (10K) [text/plain]\n",
            "Saving to: ‘helper_functions.py’\n",
            "\n",
            "helper_functions.py 100%[===================>]  10.01K  --.-KB/s    in 0s      \n",
            "\n",
            "2021-07-21 08:30:11 (63.5 MB/s) - ‘helper_functions.py’ saved [10246/10246]\n",
            "\n"
          ],
          "name": "stdout"
        }
      ]
    },
    {
      "cell_type": "code",
      "metadata": {
        "id": "M6wzftxi_4sg"
      },
      "source": [
        "from helper_functions import unzip_data, create_tensorboard_callback, plot_loss_curves, compare_historys"
      ],
      "execution_count": 3,
      "outputs": []
    },
    {
      "cell_type": "code",
      "metadata": {
        "colab": {
          "base_uri": "https://localhost:8080/"
        },
        "id": "44prx7bEAHtR",
        "outputId": "4a8a870a-a604-440b-abf1-90a3dc561e71"
      },
      "source": [
        "!wget https://storage.googleapis.com/ztm_tf_course/nlp_getting_started.zip"
      ],
      "execution_count": 4,
      "outputs": [
        {
          "output_type": "stream",
          "text": [
            "--2021-07-21 08:30:14--  https://storage.googleapis.com/ztm_tf_course/nlp_getting_started.zip\n",
            "Resolving storage.googleapis.com (storage.googleapis.com)... 66.102.1.128, 172.253.120.128, 142.251.5.128, ...\n",
            "Connecting to storage.googleapis.com (storage.googleapis.com)|66.102.1.128|:443... connected.\n",
            "HTTP request sent, awaiting response... 200 OK\n",
            "Length: 607343 (593K) [application/zip]\n",
            "Saving to: ‘nlp_getting_started.zip’\n",
            "\n",
            "\rnlp_getting_started   0%[                    ]       0  --.-KB/s               \rnlp_getting_started 100%[===================>] 593.11K  --.-KB/s    in 0.006s  \n",
            "\n",
            "2021-07-21 08:30:14 (92.7 MB/s) - ‘nlp_getting_started.zip’ saved [607343/607343]\n",
            "\n"
          ],
          "name": "stdout"
        }
      ]
    },
    {
      "cell_type": "code",
      "metadata": {
        "id": "vwWHS9OrAZKh"
      },
      "source": [
        "unzip_data('nlp_getting_started.zip')"
      ],
      "execution_count": 5,
      "outputs": []
    },
    {
      "cell_type": "code",
      "metadata": {
        "colab": {
          "base_uri": "https://localhost:8080/",
          "height": 206
        },
        "id": "sycq6wRAAe_D",
        "outputId": "bf8e7296-8ee7-475b-c02b-49c14dec96af"
      },
      "source": [
        "import pandas as pd\n",
        "train_df = pd.read_csv('train.csv')\n",
        "test_df = pd.read_csv('test.csv')\n",
        "train_df.head(5)"
      ],
      "execution_count": 6,
      "outputs": [
        {
          "output_type": "execute_result",
          "data": {
            "text/html": [
              "<div>\n",
              "<style scoped>\n",
              "    .dataframe tbody tr th:only-of-type {\n",
              "        vertical-align: middle;\n",
              "    }\n",
              "\n",
              "    .dataframe tbody tr th {\n",
              "        vertical-align: top;\n",
              "    }\n",
              "\n",
              "    .dataframe thead th {\n",
              "        text-align: right;\n",
              "    }\n",
              "</style>\n",
              "<table border=\"1\" class=\"dataframe\">\n",
              "  <thead>\n",
              "    <tr style=\"text-align: right;\">\n",
              "      <th></th>\n",
              "      <th>id</th>\n",
              "      <th>keyword</th>\n",
              "      <th>location</th>\n",
              "      <th>text</th>\n",
              "      <th>target</th>\n",
              "    </tr>\n",
              "  </thead>\n",
              "  <tbody>\n",
              "    <tr>\n",
              "      <th>0</th>\n",
              "      <td>1</td>\n",
              "      <td>NaN</td>\n",
              "      <td>NaN</td>\n",
              "      <td>Our Deeds are the Reason of this #earthquake M...</td>\n",
              "      <td>1</td>\n",
              "    </tr>\n",
              "    <tr>\n",
              "      <th>1</th>\n",
              "      <td>4</td>\n",
              "      <td>NaN</td>\n",
              "      <td>NaN</td>\n",
              "      <td>Forest fire near La Ronge Sask. Canada</td>\n",
              "      <td>1</td>\n",
              "    </tr>\n",
              "    <tr>\n",
              "      <th>2</th>\n",
              "      <td>5</td>\n",
              "      <td>NaN</td>\n",
              "      <td>NaN</td>\n",
              "      <td>All residents asked to 'shelter in place' are ...</td>\n",
              "      <td>1</td>\n",
              "    </tr>\n",
              "    <tr>\n",
              "      <th>3</th>\n",
              "      <td>6</td>\n",
              "      <td>NaN</td>\n",
              "      <td>NaN</td>\n",
              "      <td>13,000 people receive #wildfires evacuation or...</td>\n",
              "      <td>1</td>\n",
              "    </tr>\n",
              "    <tr>\n",
              "      <th>4</th>\n",
              "      <td>7</td>\n",
              "      <td>NaN</td>\n",
              "      <td>NaN</td>\n",
              "      <td>Just got sent this photo from Ruby #Alaska as ...</td>\n",
              "      <td>1</td>\n",
              "    </tr>\n",
              "  </tbody>\n",
              "</table>\n",
              "</div>"
            ],
            "text/plain": [
              "   id keyword  ...                                               text target\n",
              "0   1     NaN  ...  Our Deeds are the Reason of this #earthquake M...      1\n",
              "1   4     NaN  ...             Forest fire near La Ronge Sask. Canada      1\n",
              "2   5     NaN  ...  All residents asked to 'shelter in place' are ...      1\n",
              "3   6     NaN  ...  13,000 people receive #wildfires evacuation or...      1\n",
              "4   7     NaN  ...  Just got sent this photo from Ruby #Alaska as ...      1\n",
              "\n",
              "[5 rows x 5 columns]"
            ]
          },
          "metadata": {
            "tags": []
          },
          "execution_count": 6
        }
      ]
    },
    {
      "cell_type": "code",
      "metadata": {
        "colab": {
          "base_uri": "https://localhost:8080/",
          "height": 206
        },
        "id": "tMQ1rXTABGMn",
        "outputId": "68112c28-880a-427b-9e1a-7df6d80d1a50"
      },
      "source": [
        "train_df_shuffle = train_df.sample(frac = 1, random_state = 42)\n",
        "train_df_shuffle.head(5)"
      ],
      "execution_count": 7,
      "outputs": [
        {
          "output_type": "execute_result",
          "data": {
            "text/html": [
              "<div>\n",
              "<style scoped>\n",
              "    .dataframe tbody tr th:only-of-type {\n",
              "        vertical-align: middle;\n",
              "    }\n",
              "\n",
              "    .dataframe tbody tr th {\n",
              "        vertical-align: top;\n",
              "    }\n",
              "\n",
              "    .dataframe thead th {\n",
              "        text-align: right;\n",
              "    }\n",
              "</style>\n",
              "<table border=\"1\" class=\"dataframe\">\n",
              "  <thead>\n",
              "    <tr style=\"text-align: right;\">\n",
              "      <th></th>\n",
              "      <th>id</th>\n",
              "      <th>keyword</th>\n",
              "      <th>location</th>\n",
              "      <th>text</th>\n",
              "      <th>target</th>\n",
              "    </tr>\n",
              "  </thead>\n",
              "  <tbody>\n",
              "    <tr>\n",
              "      <th>2644</th>\n",
              "      <td>3796</td>\n",
              "      <td>destruction</td>\n",
              "      <td>NaN</td>\n",
              "      <td>So you have a new weapon that can cause un-ima...</td>\n",
              "      <td>1</td>\n",
              "    </tr>\n",
              "    <tr>\n",
              "      <th>2227</th>\n",
              "      <td>3185</td>\n",
              "      <td>deluge</td>\n",
              "      <td>NaN</td>\n",
              "      <td>The f$&amp;amp;@ing things I do for #GISHWHES Just...</td>\n",
              "      <td>0</td>\n",
              "    </tr>\n",
              "    <tr>\n",
              "      <th>5448</th>\n",
              "      <td>7769</td>\n",
              "      <td>police</td>\n",
              "      <td>UK</td>\n",
              "      <td>DT @georgegalloway: RT @Galloway4Mayor: ÛÏThe...</td>\n",
              "      <td>1</td>\n",
              "    </tr>\n",
              "    <tr>\n",
              "      <th>132</th>\n",
              "      <td>191</td>\n",
              "      <td>aftershock</td>\n",
              "      <td>NaN</td>\n",
              "      <td>Aftershock back to school kick off was great. ...</td>\n",
              "      <td>0</td>\n",
              "    </tr>\n",
              "    <tr>\n",
              "      <th>6845</th>\n",
              "      <td>9810</td>\n",
              "      <td>trauma</td>\n",
              "      <td>Montgomery County, MD</td>\n",
              "      <td>in response to trauma Children of Addicts deve...</td>\n",
              "      <td>0</td>\n",
              "    </tr>\n",
              "  </tbody>\n",
              "</table>\n",
              "</div>"
            ],
            "text/plain": [
              "        id  ... target\n",
              "2644  3796  ...      1\n",
              "2227  3185  ...      0\n",
              "5448  7769  ...      1\n",
              "132    191  ...      0\n",
              "6845  9810  ...      0\n",
              "\n",
              "[5 rows x 5 columns]"
            ]
          },
          "metadata": {
            "tags": []
          },
          "execution_count": 7
        }
      ]
    },
    {
      "cell_type": "code",
      "metadata": {
        "colab": {
          "base_uri": "https://localhost:8080/",
          "height": 206
        },
        "id": "zwFvcLzLBVIF",
        "outputId": "e749341c-c7e7-4fda-dace-649dd6724dd0"
      },
      "source": [
        "test_df.head()"
      ],
      "execution_count": 8,
      "outputs": [
        {
          "output_type": "execute_result",
          "data": {
            "text/html": [
              "<div>\n",
              "<style scoped>\n",
              "    .dataframe tbody tr th:only-of-type {\n",
              "        vertical-align: middle;\n",
              "    }\n",
              "\n",
              "    .dataframe tbody tr th {\n",
              "        vertical-align: top;\n",
              "    }\n",
              "\n",
              "    .dataframe thead th {\n",
              "        text-align: right;\n",
              "    }\n",
              "</style>\n",
              "<table border=\"1\" class=\"dataframe\">\n",
              "  <thead>\n",
              "    <tr style=\"text-align: right;\">\n",
              "      <th></th>\n",
              "      <th>id</th>\n",
              "      <th>keyword</th>\n",
              "      <th>location</th>\n",
              "      <th>text</th>\n",
              "    </tr>\n",
              "  </thead>\n",
              "  <tbody>\n",
              "    <tr>\n",
              "      <th>0</th>\n",
              "      <td>0</td>\n",
              "      <td>NaN</td>\n",
              "      <td>NaN</td>\n",
              "      <td>Just happened a terrible car crash</td>\n",
              "    </tr>\n",
              "    <tr>\n",
              "      <th>1</th>\n",
              "      <td>2</td>\n",
              "      <td>NaN</td>\n",
              "      <td>NaN</td>\n",
              "      <td>Heard about #earthquake is different cities, s...</td>\n",
              "    </tr>\n",
              "    <tr>\n",
              "      <th>2</th>\n",
              "      <td>3</td>\n",
              "      <td>NaN</td>\n",
              "      <td>NaN</td>\n",
              "      <td>there is a forest fire at spot pond, geese are...</td>\n",
              "    </tr>\n",
              "    <tr>\n",
              "      <th>3</th>\n",
              "      <td>9</td>\n",
              "      <td>NaN</td>\n",
              "      <td>NaN</td>\n",
              "      <td>Apocalypse lighting. #Spokane #wildfires</td>\n",
              "    </tr>\n",
              "    <tr>\n",
              "      <th>4</th>\n",
              "      <td>11</td>\n",
              "      <td>NaN</td>\n",
              "      <td>NaN</td>\n",
              "      <td>Typhoon Soudelor kills 28 in China and Taiwan</td>\n",
              "    </tr>\n",
              "  </tbody>\n",
              "</table>\n",
              "</div>"
            ],
            "text/plain": [
              "   id keyword location                                               text\n",
              "0   0     NaN      NaN                 Just happened a terrible car crash\n",
              "1   2     NaN      NaN  Heard about #earthquake is different cities, s...\n",
              "2   3     NaN      NaN  there is a forest fire at spot pond, geese are...\n",
              "3   9     NaN      NaN           Apocalypse lighting. #Spokane #wildfires\n",
              "4  11     NaN      NaN      Typhoon Soudelor kills 28 in China and Taiwan"
            ]
          },
          "metadata": {
            "tags": []
          },
          "execution_count": 8
        }
      ]
    },
    {
      "cell_type": "code",
      "metadata": {
        "colab": {
          "base_uri": "https://localhost:8080/"
        },
        "id": "B1UiQ65PBYBZ",
        "outputId": "86020fea-1e37-4730-b599-56f058122141"
      },
      "source": [
        "train_df.target.value_counts()"
      ],
      "execution_count": 9,
      "outputs": [
        {
          "output_type": "execute_result",
          "data": {
            "text/plain": [
              "0    4342\n",
              "1    3271\n",
              "Name: target, dtype: int64"
            ]
          },
          "metadata": {
            "tags": []
          },
          "execution_count": 9
        }
      ]
    },
    {
      "cell_type": "code",
      "metadata": {
        "colab": {
          "base_uri": "https://localhost:8080/"
        },
        "id": "X8Z-0nCgBgjA",
        "outputId": "6c51cb34-b7fa-4d71-fdd9-a397d1b4e0aa"
      },
      "source": [
        "import random\n",
        "random_index = random.randint(0, len(train_df)-5)\n",
        "for row in train_df_shuffle[['text', 'target']][random_index:random_index+5].itertuples():\n",
        "   _, text, target = row\n",
        "   print(f\"Target: {target}\", \"{real_disaster}\" if target >0 else \"{not disaster}\")\n",
        "   print(f\"Text:\\n{text}\\n\")\n",
        "   print(\"===\\n\")"
      ],
      "execution_count": 10,
      "outputs": [
        {
          "output_type": "stream",
          "text": [
            "Target: 1 {real_disaster}\n",
            "Text:\n",
            "#hot  C-130 specially modified to land in a stadium and rescue hostages in Iran in 1980 http://t.co/wpGvAyfkBQ #prebreak #best\n",
            "\n",
            "===\n",
            "\n",
            "Target: 0 {not disaster}\n",
            "Text:\n",
            "RT: Our_Mother_Mary: Short Reading\n",
            "\n",
            "Apocalypse 21:1023 \n",
            "\n",
            "In the spirit the angel took me to the top of an enormous high mountain and... Û_\n",
            "\n",
            "===\n",
            "\n",
            "Target: 0 {not disaster}\n",
            "Text:\n",
            "I added a video to a @YouTube playlist http://t.co/wedWyn9kfS World Of Tanks - Battle Assistant Mod Bat Chat Arti kaboom\n",
            "\n",
            "===\n",
            "\n",
            "Target: 1 {real_disaster}\n",
            "Text:\n",
            "#ModiMinistry Railway Minister Prabhu calls MP derailment a natural calamity http://t.co/tL41olpAkZ\n",
            "\n",
            "===\n",
            "\n",
            "Target: 0 {not disaster}\n",
            "Text:\n",
            "Rappers stop sampling police sirens and start sampling whale song.????\n",
            "\n",
            "===\n",
            "\n"
          ],
          "name": "stdout"
        }
      ]
    },
    {
      "cell_type": "code",
      "metadata": {
        "id": "toMShahRDLuK"
      },
      "source": [
        "from sklearn.model_selection import train_test_split\n",
        "train_sentences, val_sentences, train_labels, val_labels = train_test_split(train_df_shuffle['text'].to_numpy(),\n",
        "                                                                            train_df_shuffle['target'].to_numpy(),\n",
        "                                                                                             test_size = 0.1, random_state=42)"
      ],
      "execution_count": 11,
      "outputs": []
    },
    {
      "cell_type": "code",
      "metadata": {
        "colab": {
          "base_uri": "https://localhost:8080/"
        },
        "id": "QMXFm9CSFOEG",
        "outputId": "7f8359c4-f94e-43e9-ea5e-e14551f191b3"
      },
      "source": [
        "len(train_sentences), len(val_sentences), len(train_labels), len(val_labels)"
      ],
      "execution_count": 12,
      "outputs": [
        {
          "output_type": "execute_result",
          "data": {
            "text/plain": [
              "(6851, 762, 6851, 762)"
            ]
          },
          "metadata": {
            "tags": []
          },
          "execution_count": 12
        }
      ]
    },
    {
      "cell_type": "code",
      "metadata": {
        "id": "BWJmA_EGFZze"
      },
      "source": [
        "import tensorflow as tf\n",
        "from tensorflow.keras.layers.experimental.preprocessing import TextVectorization"
      ],
      "execution_count": 13,
      "outputs": []
    },
    {
      "cell_type": "code",
      "metadata": {
        "id": "R558x1UbIECp"
      },
      "source": [
        "text_vectorizer = TextVectorization(max_tokens = None,\n",
        "                                    standardize =\"lower_and_strip_punctuation\",\n",
        "                                    split =\"whitespace\",\n",
        "                                    ngrams=None,\n",
        "                                    output_mode = \"int\",\n",
        "                                    output_sequence_length = None,\n",
        "                                    pad_to_max_tokens = True)"
      ],
      "execution_count": 14,
      "outputs": []
    },
    {
      "cell_type": "code",
      "metadata": {
        "colab": {
          "base_uri": "https://localhost:8080/"
        },
        "id": "GtpFaL9JJUr2",
        "outputId": "c8e41191-db01-4f34-bc20-731525ec8537"
      },
      "source": [
        "round(sum([len(i.split()) for i in train_sentences])/len(train_sentences))\n"
      ],
      "execution_count": 15,
      "outputs": [
        {
          "output_type": "execute_result",
          "data": {
            "text/plain": [
              "15"
            ]
          },
          "metadata": {
            "tags": []
          },
          "execution_count": 15
        }
      ]
    },
    {
      "cell_type": "code",
      "metadata": {
        "id": "3b6lZmVFJzrc"
      },
      "source": [
        "max_vocab_length = 10000\n",
        "max_length = 15\n",
        "text_vectorizer = TextVectorization(max_tokens=max_vocab_length,\n",
        "                                    output_mode='int',\n",
        "                                    output_sequence_length=max_length)"
      ],
      "execution_count": 16,
      "outputs": []
    },
    {
      "cell_type": "code",
      "metadata": {
        "id": "BXUMAZYXKe_w"
      },
      "source": [
        "text_vectorizer.adapt(train_sentences)"
      ],
      "execution_count": 17,
      "outputs": []
    },
    {
      "cell_type": "code",
      "metadata": {
        "colab": {
          "base_uri": "https://localhost:8080/"
        },
        "id": "yxFBY7IMK4qR",
        "outputId": "16105b39-48e7-41a7-d458-0045f76b6b66"
      },
      "source": [
        "random_sentence = random.choice(train_sentences)\n",
        "text_vectorizer([random_sentence])"
      ],
      "execution_count": 18,
      "outputs": [
        {
          "output_type": "execute_result",
          "data": {
            "text/plain": [
              "<tf.Tensor: shape=(1, 15), dtype=int64, numpy=\n",
              "array([[6184,  899,   62, 1529,   22,   12,   16, 1370,    9,  115,  899,\n",
              "         180,    0,    0,    0]])>"
            ]
          },
          "metadata": {
            "tags": []
          },
          "execution_count": 18
        }
      ]
    },
    {
      "cell_type": "code",
      "metadata": {
        "colab": {
          "base_uri": "https://localhost:8080/"
        },
        "id": "h3sPeKUOLhvL",
        "outputId": "45268a48-c802-40ef-f510-dd999990ee0a"
      },
      "source": [
        "words_in_vocab = text_vectorizer.get_vocabulary()\n",
        "words_in_vocab[:5]"
      ],
      "execution_count": 19,
      "outputs": [
        {
          "output_type": "execute_result",
          "data": {
            "text/plain": [
              "['', '[UNK]', 'the', 'a', 'in']"
            ]
          },
          "metadata": {
            "tags": []
          },
          "execution_count": 19
        }
      ]
    },
    {
      "cell_type": "code",
      "metadata": {
        "id": "P0PaDvv0MCYf"
      },
      "source": [
        "from tensorflow.keras import layers\n",
        "embedding = layers.Embedding(input_dim=max_vocab_length,\n",
        "                             output_dim=128,\n",
        "                             input_length=max_length)"
      ],
      "execution_count": 20,
      "outputs": []
    },
    {
      "cell_type": "code",
      "metadata": {
        "colab": {
          "base_uri": "https://localhost:8080/"
        },
        "id": "UY_zh-J7XlKc",
        "outputId": "28df4a34-1d74-4c74-9891-9c27516d9847"
      },
      "source": [
        "from sklearn.feature_extraction.text import TfidfVectorizer\n",
        "from sklearn.naive_bayes import MultinomialNB\n",
        "from sklearn.pipeline import Pipeline\n",
        "\n",
        "model_0 = Pipeline([\n",
        "                    (\"tfidf\", TfidfVectorizer()),\n",
        "                    ('clf', MultinomialNB())\n",
        "])\n",
        "model_0.fit(train_sentences, train_labels)"
      ],
      "execution_count": 21,
      "outputs": [
        {
          "output_type": "execute_result",
          "data": {
            "text/plain": [
              "Pipeline(memory=None,\n",
              "         steps=[('tfidf',\n",
              "                 TfidfVectorizer(analyzer='word', binary=False,\n",
              "                                 decode_error='strict',\n",
              "                                 dtype=<class 'numpy.float64'>,\n",
              "                                 encoding='utf-8', input='content',\n",
              "                                 lowercase=True, max_df=1.0, max_features=None,\n",
              "                                 min_df=1, ngram_range=(1, 1), norm='l2',\n",
              "                                 preprocessor=None, smooth_idf=True,\n",
              "                                 stop_words=None, strip_accents=None,\n",
              "                                 sublinear_tf=False,\n",
              "                                 token_pattern='(?u)\\\\b\\\\w\\\\w+\\\\b',\n",
              "                                 tokenizer=None, use_idf=True,\n",
              "                                 vocabulary=None)),\n",
              "                ('clf',\n",
              "                 MultinomialNB(alpha=1.0, class_prior=None, fit_prior=True))],\n",
              "         verbose=False)"
            ]
          },
          "metadata": {
            "tags": []
          },
          "execution_count": 21
        }
      ]
    },
    {
      "cell_type": "code",
      "metadata": {
        "colab": {
          "base_uri": "https://localhost:8080/"
        },
        "id": "LtdQjTwGcxjo",
        "outputId": "bbcd4a3b-c1d1-475c-a406-3de239d1a40c"
      },
      "source": [
        "baseline_score = model_0.score(val_sentences, val_labels)\n",
        "print(f\"Baselinemodel score: {baseline_score*100:.2f}\")"
      ],
      "execution_count": 22,
      "outputs": [
        {
          "output_type": "stream",
          "text": [
            "Baselinemodel score: 79.27\n"
          ],
          "name": "stdout"
        }
      ]
    },
    {
      "cell_type": "code",
      "metadata": {
        "colab": {
          "base_uri": "https://localhost:8080/"
        },
        "id": "YTtzH1jNdV-5",
        "outputId": "caad3564-b4d7-42a8-fd7f-7c8b1cc478af"
      },
      "source": [
        "baseline_preds = model_0.predict(val_sentences)\n",
        "baseline_preds[:20]"
      ],
      "execution_count": 23,
      "outputs": [
        {
          "output_type": "execute_result",
          "data": {
            "text/plain": [
              "array([1, 1, 1, 0, 0, 1, 1, 1, 1, 0, 0, 1, 0, 0, 0, 0, 0, 0, 0, 1])"
            ]
          },
          "metadata": {
            "tags": []
          },
          "execution_count": 23
        }
      ]
    },
    {
      "cell_type": "code",
      "metadata": {
        "id": "3VGxFhKUdgTy"
      },
      "source": [
        "from sklearn.metrics import accuracy_score, precision_recall_fscore_support\n",
        "def calculate_results(y_true, y_pred):\n",
        "  model_accuracy = accuracy_score(y_true, y_pred)*100\n",
        "  model_precision, model_recall, model_f1, _ = precision_recall_fscore_support(y_true, y_pred, average = \"weighted\")\n",
        "  model_results = {\"accuracy\": model_accuracy,\n",
        "                   \"precision\": model_precision,\n",
        "                   \"recall\":model_recall,\n",
        "                   \"f1\":model_f1}\n",
        "  return model_results                 "
      ],
      "execution_count": 24,
      "outputs": []
    },
    {
      "cell_type": "code",
      "metadata": {
        "colab": {
          "base_uri": "https://localhost:8080/"
        },
        "id": "yloecgC4gW1T",
        "outputId": "642993b0-9b02-4d3d-cd4b-814132196e6d"
      },
      "source": [
        "baseline_results = calculate_results(y_true = val_labels,\n",
        "                                     y_pred = baseline_preds)\n",
        "baseline_results"
      ],
      "execution_count": 25,
      "outputs": [
        {
          "output_type": "execute_result",
          "data": {
            "text/plain": [
              "{'accuracy': 79.26509186351706,\n",
              " 'f1': 0.7862189758049549,\n",
              " 'precision': 0.8111390004213173,\n",
              " 'recall': 0.7926509186351706}"
            ]
          },
          "metadata": {
            "tags": []
          },
          "execution_count": 25
        }
      ]
    },
    {
      "cell_type": "code",
      "metadata": {
        "id": "MZ2m9SqghO7C",
        "colab": {
          "base_uri": "https://localhost:8080/"
        },
        "outputId": "6e691c8c-36ba-43c6-f4a8-07b99db0bd78"
      },
      "source": [
        "from helper_functions import create_tensorboard_callback\n",
        "\n",
        "SAVE_DIR = \"model_log\"\n",
        "from tensorflow.keras import layers\n",
        "inputs = layers.Input(shape=(1,), dtype=tf.string)\n",
        "x = text_vectorizer(inputs)\n",
        "x = embedding(x)\n",
        "x = layers.GlobalAveragePooling1D()(x)\n",
        "outputs = layers.Dense(1, activation = 'sigmoid')(x)\n",
        "model_1 = tf.keras.Model(inputs, outputs, name='Output')\n",
        "model_1.summary()"
      ],
      "execution_count": 26,
      "outputs": [
        {
          "output_type": "stream",
          "text": [
            "Model: \"Output\"\n",
            "_________________________________________________________________\n",
            "Layer (type)                 Output Shape              Param #   \n",
            "=================================================================\n",
            "input_1 (InputLayer)         [(None, 1)]               0         \n",
            "_________________________________________________________________\n",
            "text_vectorization_1 (TextVe (None, 15)                0         \n",
            "_________________________________________________________________\n",
            "embedding (Embedding)        (None, 15, 128)           1280000   \n",
            "_________________________________________________________________\n",
            "global_average_pooling1d (Gl (None, 128)               0         \n",
            "_________________________________________________________________\n",
            "dense (Dense)                (None, 1)                 129       \n",
            "=================================================================\n",
            "Total params: 1,280,129\n",
            "Trainable params: 1,280,129\n",
            "Non-trainable params: 0\n",
            "_________________________________________________________________\n"
          ],
          "name": "stdout"
        }
      ]
    },
    {
      "cell_type": "code",
      "metadata": {
        "colab": {
          "base_uri": "https://localhost:8080/"
        },
        "id": "vdVv2A2tIDo6",
        "outputId": "b40b7104-49d6-4a23-feff-722c878e4d65"
      },
      "source": [
        "model_1.compile(loss='binary_crossentropy', \n",
        "                optimizer= 'Adam',\n",
        "                metrics=['accuracy'])\n",
        "model_1_history = model_1.fit(x=train_sentences,\n",
        "                              y=train_labels,\n",
        "                              epochs=5,\n",
        "                              validation_data=(val_sentences, val_labels),\n",
        "                              callbacks=[create_tensorboard_callback(dir_name = SAVE_DIR, experiment_name='Model_1')])"
      ],
      "execution_count": 27,
      "outputs": [
        {
          "output_type": "stream",
          "text": [
            "Saving TensorBoard log files to: model_log/Model_1/20210721-083024\n",
            "Epoch 1/5\n",
            "215/215 [==============================] - 8s 21ms/step - loss: 0.6133 - accuracy: 0.6895 - val_loss: 0.5346 - val_accuracy: 0.7585\n",
            "Epoch 2/5\n",
            "215/215 [==============================] - 4s 18ms/step - loss: 0.4424 - accuracy: 0.8186 - val_loss: 0.4675 - val_accuracy: 0.7874\n",
            "Epoch 3/5\n",
            "215/215 [==============================] - 4s 19ms/step - loss: 0.3465 - accuracy: 0.8624 - val_loss: 0.4596 - val_accuracy: 0.7966\n",
            "Epoch 4/5\n",
            "215/215 [==============================] - 4s 18ms/step - loss: 0.2843 - accuracy: 0.8859 - val_loss: 0.4665 - val_accuracy: 0.7940\n",
            "Epoch 5/5\n",
            "215/215 [==============================] - 4s 18ms/step - loss: 0.2371 - accuracy: 0.9108 - val_loss: 0.4793 - val_accuracy: 0.7835\n"
          ],
          "name": "stdout"
        }
      ]
    },
    {
      "cell_type": "code",
      "metadata": {
        "colab": {
          "base_uri": "https://localhost:8080/"
        },
        "id": "3oKH5XSaJGFR",
        "outputId": "3610e807-8cb7-40b1-e6bd-8a6e26a15370"
      },
      "source": [
        "model_1_pred_probs = model_1.predict(val_sentences)\n",
        "model_1_pred_probs"
      ],
      "execution_count": 28,
      "outputs": [
        {
          "output_type": "execute_result",
          "data": {
            "text/plain": [
              "array([[4.00481790e-01],\n",
              "       [7.73064137e-01],\n",
              "       [9.97886598e-01],\n",
              "       [1.53758854e-01],\n",
              "       [1.03835762e-01],\n",
              "       [9.38405752e-01],\n",
              "       [9.04680073e-01],\n",
              "       [9.92819607e-01],\n",
              "       [9.70442414e-01],\n",
              "       [3.24510932e-01],\n",
              "       [1.12657174e-01],\n",
              "       [6.70295358e-01],\n",
              "       [4.79855314e-02],\n",
              "       [1.85229436e-01],\n",
              "       [4.23567044e-03],\n",
              "       [1.35733992e-01],\n",
              "       [2.32355557e-02],\n",
              "       [7.96887428e-02],\n",
              "       [2.73073226e-01],\n",
              "       [5.51558733e-01],\n",
              "       [9.10833597e-01],\n",
              "       [3.50559615e-02],\n",
              "       [4.51352537e-01],\n",
              "       [9.89643335e-02],\n",
              "       [9.59813297e-01],\n",
              "       [9.98694360e-01],\n",
              "       [3.94163877e-02],\n",
              "       [7.75594413e-02],\n",
              "       [2.99471989e-02],\n",
              "       [1.77889377e-01],\n",
              "       [5.83275378e-01],\n",
              "       [2.93462694e-01],\n",
              "       [5.01953781e-01],\n",
              "       [1.79536089e-01],\n",
              "       [5.02046466e-01],\n",
              "       [5.95003292e-02],\n",
              "       [9.94213998e-01],\n",
              "       [1.94764555e-01],\n",
              "       [3.14140953e-02],\n",
              "       [9.98241425e-01],\n",
              "       [2.33662188e-01],\n",
              "       [1.74270868e-02],\n",
              "       [3.24765414e-01],\n",
              "       [6.57221302e-02],\n",
              "       [6.05138361e-01],\n",
              "       [9.86015558e-01],\n",
              "       [3.47430766e-01],\n",
              "       [9.05830503e-01],\n",
              "       [2.34679535e-01],\n",
              "       [6.29667103e-01],\n",
              "       [5.45041375e-02],\n",
              "       [6.26879334e-01],\n",
              "       [4.39365476e-01],\n",
              "       [3.25722434e-02],\n",
              "       [1.35156795e-01],\n",
              "       [3.64014693e-02],\n",
              "       [2.16536090e-01],\n",
              "       [9.58358288e-01],\n",
              "       [1.10140115e-01],\n",
              "       [2.85246898e-03],\n",
              "       [1.79882064e-01],\n",
              "       [9.67076600e-01],\n",
              "       [9.18891490e-01],\n",
              "       [1.64405674e-01],\n",
              "       [9.13534880e-01],\n",
              "       [9.77877855e-01],\n",
              "       [7.25599110e-01],\n",
              "       [3.52905154e-01],\n",
              "       [1.16521418e-01],\n",
              "       [1.63595214e-01],\n",
              "       [9.29339230e-02],\n",
              "       [3.16150226e-02],\n",
              "       [9.34571564e-01],\n",
              "       [1.69090286e-01],\n",
              "       [1.36798903e-01],\n",
              "       [4.24198478e-01],\n",
              "       [4.33855623e-01],\n",
              "       [8.32717896e-01],\n",
              "       [3.00329745e-01],\n",
              "       [6.09439671e-01],\n",
              "       [4.39406306e-01],\n",
              "       [2.77174324e-01],\n",
              "       [9.96686041e-01],\n",
              "       [9.36697274e-02],\n",
              "       [2.01545164e-01],\n",
              "       [8.53591114e-02],\n",
              "       [2.50609219e-02],\n",
              "       [9.04614255e-02],\n",
              "       [6.36919558e-01],\n",
              "       [8.82089138e-01],\n",
              "       [9.93311286e-01],\n",
              "       [1.02361795e-02],\n",
              "       [5.75607598e-01],\n",
              "       [2.87415404e-02],\n",
              "       [9.84415829e-01],\n",
              "       [7.71610916e-01],\n",
              "       [8.75472426e-01],\n",
              "       [9.73199308e-01],\n",
              "       [8.74292910e-01],\n",
              "       [9.60252583e-01],\n",
              "       [9.99375761e-01],\n",
              "       [2.06654444e-01],\n",
              "       [1.42689105e-02],\n",
              "       [9.16479647e-01],\n",
              "       [8.68338168e-01],\n",
              "       [8.99363533e-02],\n",
              "       [8.71927977e-01],\n",
              "       [9.77559805e-01],\n",
              "       [5.34203984e-02],\n",
              "       [4.65328127e-01],\n",
              "       [7.15490580e-01],\n",
              "       [3.18181626e-02],\n",
              "       [2.72597820e-01],\n",
              "       [1.72254875e-01],\n",
              "       [1.70697540e-01],\n",
              "       [4.77860183e-01],\n",
              "       [4.26604360e-01],\n",
              "       [7.20621347e-01],\n",
              "       [7.79458880e-01],\n",
              "       [7.70472810e-02],\n",
              "       [9.99705136e-01],\n",
              "       [8.87686312e-02],\n",
              "       [1.16918072e-01],\n",
              "       [7.96412468e-01],\n",
              "       [4.46342826e-01],\n",
              "       [3.00497502e-01],\n",
              "       [8.35377038e-01],\n",
              "       [1.01636397e-02],\n",
              "       [7.92260617e-02],\n",
              "       [8.26993287e-01],\n",
              "       [1.11747459e-01],\n",
              "       [9.99705136e-01],\n",
              "       [9.99795973e-01],\n",
              "       [9.98694360e-01],\n",
              "       [9.86466944e-01],\n",
              "       [8.17768946e-02],\n",
              "       [9.78496432e-01],\n",
              "       [1.67581618e-01],\n",
              "       [2.98777729e-01],\n",
              "       [8.13167691e-02],\n",
              "       [9.96263325e-01],\n",
              "       [3.26859385e-01],\n",
              "       [1.85229436e-01],\n",
              "       [9.51682270e-01],\n",
              "       [2.73243546e-01],\n",
              "       [5.96041799e-01],\n",
              "       [4.30781879e-02],\n",
              "       [6.82516349e-03],\n",
              "       [2.35234529e-01],\n",
              "       [9.79914606e-01],\n",
              "       [2.88898975e-01],\n",
              "       [8.61594379e-02],\n",
              "       [4.84579623e-01],\n",
              "       [1.68577671e-01],\n",
              "       [2.29850978e-01],\n",
              "       [9.91173565e-01],\n",
              "       [7.83388019e-01],\n",
              "       [4.75827694e-01],\n",
              "       [9.88766968e-01],\n",
              "       [2.41919644e-02],\n",
              "       [9.69043672e-01],\n",
              "       [4.91060354e-02],\n",
              "       [2.43365824e-01],\n",
              "       [9.91171181e-01],\n",
              "       [2.89543480e-01],\n",
              "       [6.90297708e-02],\n",
              "       [9.98510778e-01],\n",
              "       [3.41680408e-01],\n",
              "       [9.82797027e-01],\n",
              "       [2.50055015e-01],\n",
              "       [9.93208230e-01],\n",
              "       [8.59642506e-01],\n",
              "       [8.17196369e-01],\n",
              "       [3.10984347e-02],\n",
              "       [9.98028338e-01],\n",
              "       [8.31736326e-02],\n",
              "       [3.65688950e-01],\n",
              "       [4.55111027e-01],\n",
              "       [7.03902304e-01],\n",
              "       [9.94137287e-01],\n",
              "       [1.52240312e-02],\n",
              "       [8.51485670e-01],\n",
              "       [8.02017868e-01],\n",
              "       [9.70271587e-01],\n",
              "       [9.75219965e-01],\n",
              "       [4.16953117e-01],\n",
              "       [1.18840478e-01],\n",
              "       [9.99598920e-01],\n",
              "       [1.97804663e-02],\n",
              "       [2.86331140e-02],\n",
              "       [1.02772735e-01],\n",
              "       [9.29098070e-01],\n",
              "       [8.20630640e-02],\n",
              "       [2.79537886e-01],\n",
              "       [1.27153909e-02],\n",
              "       [9.76987705e-02],\n",
              "       [4.16000560e-02],\n",
              "       [2.03686327e-01],\n",
              "       [7.33731985e-01],\n",
              "       [6.22587688e-02],\n",
              "       [3.18914115e-01],\n",
              "       [8.89487088e-01],\n",
              "       [9.69416380e-01],\n",
              "       [3.81318808e-01],\n",
              "       [1.32139653e-01],\n",
              "       [9.99830484e-01],\n",
              "       [6.02931440e-01],\n",
              "       [9.21414375e-01],\n",
              "       [6.58722460e-01],\n",
              "       [8.39980483e-01],\n",
              "       [2.98693985e-01],\n",
              "       [9.87106979e-01],\n",
              "       [1.80249680e-02],\n",
              "       [1.92694262e-01],\n",
              "       [5.40631777e-03],\n",
              "       [5.97294234e-03],\n",
              "       [9.59495783e-01],\n",
              "       [8.23902249e-01],\n",
              "       [9.01333869e-01],\n",
              "       [1.86207220e-01],\n",
              "       [7.18442559e-01],\n",
              "       [7.77370855e-02],\n",
              "       [2.47765668e-02],\n",
              "       [1.62632704e-01],\n",
              "       [9.82332885e-01],\n",
              "       [1.73619285e-01],\n",
              "       [5.00684261e-01],\n",
              "       [9.95736718e-01],\n",
              "       [6.42195284e-01],\n",
              "       [5.53993225e-01],\n",
              "       [1.10740229e-01],\n",
              "       [2.08693847e-01],\n",
              "       [8.47097695e-01],\n",
              "       [2.96564341e-01],\n",
              "       [5.94721615e-01],\n",
              "       [1.84394822e-01],\n",
              "       [5.65634549e-01],\n",
              "       [3.11558008e-01],\n",
              "       [1.61425546e-01],\n",
              "       [7.86536634e-02],\n",
              "       [4.10427183e-01],\n",
              "       [2.41424084e-01],\n",
              "       [9.99879479e-01],\n",
              "       [9.88455534e-01],\n",
              "       [8.49178433e-02],\n",
              "       [2.41006389e-02],\n",
              "       [8.88832211e-01],\n",
              "       [1.14316180e-01],\n",
              "       [8.88948813e-02],\n",
              "       [4.80989665e-01],\n",
              "       [4.53658476e-02],\n",
              "       [5.77729106e-01],\n",
              "       [8.45971692e-04],\n",
              "       [4.01851147e-01],\n",
              "       [9.15121138e-01],\n",
              "       [2.67742395e-01],\n",
              "       [9.75074410e-01],\n",
              "       [9.98862267e-01],\n",
              "       [3.29723775e-01],\n",
              "       [1.72862038e-01],\n",
              "       [3.44994277e-01],\n",
              "       [3.80303636e-02],\n",
              "       [4.30038013e-03],\n",
              "       [9.85998034e-01],\n",
              "       [9.69851375e-01],\n",
              "       [7.14977682e-01],\n",
              "       [9.65084910e-01],\n",
              "       [6.04405031e-02],\n",
              "       [1.55787185e-01],\n",
              "       [9.13860742e-03],\n",
              "       [1.61798701e-01],\n",
              "       [3.98464389e-02],\n",
              "       [9.64184344e-01],\n",
              "       [7.82471374e-02],\n",
              "       [9.23375878e-03],\n",
              "       [9.76779282e-01],\n",
              "       [1.20616918e-02],\n",
              "       [1.08166151e-01],\n",
              "       [9.85236406e-01],\n",
              "       [4.02569585e-02],\n",
              "       [1.03917941e-01],\n",
              "       [6.47741603e-03],\n",
              "       [9.73491132e-01],\n",
              "       [5.64501941e-01],\n",
              "       [7.87073255e-01],\n",
              "       [6.91830516e-01],\n",
              "       [5.50137341e-01],\n",
              "       [7.01205060e-02],\n",
              "       [9.36968029e-01],\n",
              "       [3.69564444e-02],\n",
              "       [7.47325003e-01],\n",
              "       [4.01794583e-01],\n",
              "       [4.02938217e-01],\n",
              "       [3.73009175e-01],\n",
              "       [1.98215604e-01],\n",
              "       [7.25882232e-01],\n",
              "       [2.14005426e-01],\n",
              "       [6.81170523e-01],\n",
              "       [1.27699822e-01],\n",
              "       [8.01161051e-01],\n",
              "       [4.30379137e-02],\n",
              "       [8.09993818e-02],\n",
              "       [2.62959868e-01],\n",
              "       [9.85698760e-01],\n",
              "       [1.61828294e-01],\n",
              "       [9.80404988e-02],\n",
              "       [2.81236738e-01],\n",
              "       [2.68832892e-01],\n",
              "       [1.12393193e-01],\n",
              "       [3.20790522e-02],\n",
              "       [3.10268868e-02],\n",
              "       [9.86556172e-01],\n",
              "       [4.12197173e-01],\n",
              "       [3.05871993e-01],\n",
              "       [9.99842167e-01],\n",
              "       [4.00763415e-02],\n",
              "       [5.92761338e-01],\n",
              "       [2.73803562e-01],\n",
              "       [4.32619750e-02],\n",
              "       [1.96991801e-01],\n",
              "       [1.78601712e-01],\n",
              "       [1.12987258e-01],\n",
              "       [9.19702888e-01],\n",
              "       [2.23850891e-01],\n",
              "       [9.88026977e-01],\n",
              "       [8.12347159e-02],\n",
              "       [2.18177978e-02],\n",
              "       [9.95547771e-01],\n",
              "       [2.08821036e-02],\n",
              "       [9.95785058e-01],\n",
              "       [1.44944623e-01],\n",
              "       [3.90351973e-02],\n",
              "       [9.70047176e-01],\n",
              "       [4.64424752e-02],\n",
              "       [3.95795889e-02],\n",
              "       [9.81405199e-01],\n",
              "       [6.53611217e-03],\n",
              "       [2.42823452e-01],\n",
              "       [7.36874938e-01],\n",
              "       [8.96772742e-01],\n",
              "       [3.58741847e-03],\n",
              "       [1.34555504e-01],\n",
              "       [9.84559894e-01],\n",
              "       [9.72995996e-01],\n",
              "       [7.32981741e-01],\n",
              "       [4.59410697e-01],\n",
              "       [5.70132673e-01],\n",
              "       [4.34225500e-01],\n",
              "       [6.70857355e-02],\n",
              "       [1.08826503e-01],\n",
              "       [1.23127952e-01],\n",
              "       [6.99007869e-01],\n",
              "       [3.09270378e-02],\n",
              "       [4.76342022e-01],\n",
              "       [3.77521455e-01],\n",
              "       [1.08001390e-02],\n",
              "       [9.71461833e-01],\n",
              "       [9.98694360e-01],\n",
              "       [9.92332816e-01],\n",
              "       [2.90123858e-02],\n",
              "       [3.41878921e-01],\n",
              "       [1.30772054e-01],\n",
              "       [3.70711893e-01],\n",
              "       [7.90494859e-01],\n",
              "       [2.10015580e-01],\n",
              "       [2.13456806e-02],\n",
              "       [8.08757544e-02],\n",
              "       [4.11328189e-02],\n",
              "       [5.80248535e-01],\n",
              "       [1.03369979e-02],\n",
              "       [1.97218254e-01],\n",
              "       [3.59427258e-02],\n",
              "       [3.84424597e-01],\n",
              "       [3.91146183e-01],\n",
              "       [3.79151255e-01],\n",
              "       [2.33687341e-01],\n",
              "       [4.61907238e-02],\n",
              "       [3.09060633e-01],\n",
              "       [7.37888366e-02],\n",
              "       [9.96573329e-01],\n",
              "       [9.25211608e-01],\n",
              "       [5.15079141e-01],\n",
              "       [6.66518688e-01],\n",
              "       [1.95810646e-02],\n",
              "       [5.18417001e-01],\n",
              "       [9.91368473e-01],\n",
              "       [6.83134794e-01],\n",
              "       [1.93533093e-01],\n",
              "       [9.84354496e-01],\n",
              "       [2.16861859e-01],\n",
              "       [9.48631942e-01],\n",
              "       [2.28185534e-01],\n",
              "       [2.87491549e-02],\n",
              "       [5.26920438e-01],\n",
              "       [4.90262717e-01],\n",
              "       [9.96364892e-01],\n",
              "       [1.10834591e-01],\n",
              "       [4.04399596e-02],\n",
              "       [7.36005977e-02],\n",
              "       [2.10015580e-01],\n",
              "       [9.99018788e-01],\n",
              "       [2.60351114e-02],\n",
              "       [6.85210288e-01],\n",
              "       [9.73971725e-01],\n",
              "       [8.12233463e-02],\n",
              "       [9.99705136e-01],\n",
              "       [3.15414034e-02],\n",
              "       [4.09430593e-01],\n",
              "       [5.40797301e-02],\n",
              "       [7.85898983e-01],\n",
              "       [9.13478196e-01],\n",
              "       [7.27194920e-02],\n",
              "       [2.22047674e-03],\n",
              "       [2.39768341e-01],\n",
              "       [9.90007520e-01],\n",
              "       [8.71127546e-01],\n",
              "       [1.45256385e-01],\n",
              "       [4.35720861e-01],\n",
              "       [7.28758872e-01],\n",
              "       [3.48464549e-02],\n",
              "       [9.93177414e-01],\n",
              "       [5.22203028e-01],\n",
              "       [9.98584032e-01],\n",
              "       [9.06584203e-01],\n",
              "       [8.48487020e-02],\n",
              "       [3.43397647e-01],\n",
              "       [1.21175811e-01],\n",
              "       [9.35636997e-01],\n",
              "       [7.16355681e-01],\n",
              "       [4.13277894e-01],\n",
              "       [4.63945419e-02],\n",
              "       [3.24334502e-01],\n",
              "       [4.20773886e-02],\n",
              "       [6.71954751e-02],\n",
              "       [1.18819319e-01],\n",
              "       [4.02118862e-01],\n",
              "       [4.93542582e-01],\n",
              "       [1.86985493e-01],\n",
              "       [9.99179065e-01],\n",
              "       [9.86293197e-01],\n",
              "       [2.72649825e-01],\n",
              "       [7.73064137e-01],\n",
              "       [2.29877323e-01],\n",
              "       [3.52126993e-02],\n",
              "       [3.84747356e-01],\n",
              "       [6.85097575e-01],\n",
              "       [1.18891910e-01],\n",
              "       [2.43727177e-01],\n",
              "       [1.67361181e-02],\n",
              "       [4.85884875e-01],\n",
              "       [2.39884458e-03],\n",
              "       [9.46454704e-01],\n",
              "       [9.79669571e-01],\n",
              "       [9.94069099e-01],\n",
              "       [9.76989448e-01],\n",
              "       [8.04354608e-01],\n",
              "       [1.38281897e-01],\n",
              "       [5.35878725e-02],\n",
              "       [6.15167081e-01],\n",
              "       [9.06130075e-01],\n",
              "       [9.98362839e-01],\n",
              "       [2.88863853e-03],\n",
              "       [1.34951875e-01],\n",
              "       [1.69289455e-01],\n",
              "       [9.98994172e-01],\n",
              "       [9.99482393e-01],\n",
              "       [2.72327363e-01],\n",
              "       [1.36944652e-01],\n",
              "       [9.96431112e-01],\n",
              "       [5.40364385e-02],\n",
              "       [3.74926746e-01],\n",
              "       [9.84507203e-01],\n",
              "       [1.50513336e-01],\n",
              "       [5.16508706e-02],\n",
              "       [9.43008840e-01],\n",
              "       [2.38814160e-01],\n",
              "       [4.44859445e-01],\n",
              "       [9.71915543e-01],\n",
              "       [1.84959993e-02],\n",
              "       [4.40499634e-02],\n",
              "       [9.23258997e-03],\n",
              "       [2.02989485e-02],\n",
              "       [1.10863917e-01],\n",
              "       [9.73792195e-01],\n",
              "       [2.68495511e-02],\n",
              "       [4.25204754e-01],\n",
              "       [4.91540641e-01],\n",
              "       [8.57042298e-02],\n",
              "       [2.72909403e-01],\n",
              "       [6.15874939e-02],\n",
              "       [3.38418096e-01],\n",
              "       [9.97649491e-01],\n",
              "       [6.58646584e-01],\n",
              "       [1.26908883e-01],\n",
              "       [1.44317046e-01],\n",
              "       [1.34806380e-01],\n",
              "       [7.31772631e-02],\n",
              "       [7.14574635e-01],\n",
              "       [1.98775418e-02],\n",
              "       [9.11221445e-01],\n",
              "       [7.85475075e-01],\n",
              "       [5.68554997e-01],\n",
              "       [6.69196486e-01],\n",
              "       [8.08966160e-01],\n",
              "       [1.02656782e-01],\n",
              "       [3.28320295e-01],\n",
              "       [3.64255279e-01],\n",
              "       [8.97892594e-01],\n",
              "       [2.49857858e-01],\n",
              "       [2.82681584e-01],\n",
              "       [3.75183582e-01],\n",
              "       [9.86634661e-03],\n",
              "       [1.34946197e-01],\n",
              "       [3.59741122e-01],\n",
              "       [7.58679688e-01],\n",
              "       [1.50780469e-01],\n",
              "       [9.92203593e-01],\n",
              "       [9.13835347e-01],\n",
              "       [7.71610916e-01],\n",
              "       [9.85421658e-01],\n",
              "       [1.46223828e-01],\n",
              "       [8.41111839e-02],\n",
              "       [9.10368204e-01],\n",
              "       [1.64787173e-01],\n",
              "       [2.21652556e-02],\n",
              "       [7.30632693e-02],\n",
              "       [1.16349459e-01],\n",
              "       [1.17165281e-03],\n",
              "       [8.46541643e-01],\n",
              "       [7.95944214e-01],\n",
              "       [8.40133369e-01],\n",
              "       [9.39273238e-01],\n",
              "       [8.07375386e-02],\n",
              "       [1.62471190e-01],\n",
              "       [7.15105236e-01],\n",
              "       [1.62492786e-02],\n",
              "       [3.19783598e-01],\n",
              "       [1.52155295e-01],\n",
              "       [6.58716142e-01],\n",
              "       [5.43679178e-01],\n",
              "       [6.01230748e-02],\n",
              "       [7.82637820e-02],\n",
              "       [5.42361379e-01],\n",
              "       [1.44020945e-01],\n",
              "       [1.51175141e-01],\n",
              "       [1.39497608e-01],\n",
              "       [2.15162471e-01],\n",
              "       [9.98992622e-01],\n",
              "       [9.74869967e-01],\n",
              "       [3.73659045e-01],\n",
              "       [8.42065930e-01],\n",
              "       [9.91391778e-01],\n",
              "       [1.19209499e-03],\n",
              "       [9.65011299e-01],\n",
              "       [2.64291704e-01],\n",
              "       [4.43357974e-01],\n",
              "       [2.89488852e-01],\n",
              "       [1.10063478e-01],\n",
              "       [1.53061271e-01],\n",
              "       [3.45338732e-02],\n",
              "       [8.65602046e-02],\n",
              "       [8.80221501e-02],\n",
              "       [7.42674887e-01],\n",
              "       [2.52362907e-01],\n",
              "       [9.93809760e-01],\n",
              "       [5.63109256e-02],\n",
              "       [6.74979687e-01],\n",
              "       [5.91874957e-01],\n",
              "       [1.73583236e-02],\n",
              "       [5.43947294e-02],\n",
              "       [9.59354460e-01],\n",
              "       [7.08608747e-01],\n",
              "       [9.62062061e-01],\n",
              "       [2.10265145e-01],\n",
              "       [8.07157904e-02],\n",
              "       [4.48136687e-01],\n",
              "       [3.28744799e-01],\n",
              "       [3.52804422e-01],\n",
              "       [9.91391778e-01],\n",
              "       [1.32461600e-02],\n",
              "       [4.38338034e-02],\n",
              "       [1.74150810e-01],\n",
              "       [9.96941030e-01],\n",
              "       [1.71970248e-01],\n",
              "       [6.11279905e-02],\n",
              "       [7.90954709e-01],\n",
              "       [5.83438836e-02],\n",
              "       [3.10752969e-02],\n",
              "       [1.81185290e-01],\n",
              "       [2.52917260e-01],\n",
              "       [1.60133913e-01],\n",
              "       [3.47896218e-01],\n",
              "       [3.99617821e-01],\n",
              "       [1.81684747e-01],\n",
              "       [8.93539786e-02],\n",
              "       [3.50190818e-01],\n",
              "       [1.76459346e-02],\n",
              "       [9.37402129e-01],\n",
              "       [8.67785096e-01],\n",
              "       [4.65316474e-01],\n",
              "       [3.75157632e-02],\n",
              "       [2.68362351e-02],\n",
              "       [9.85133052e-01],\n",
              "       [6.36129200e-01],\n",
              "       [9.99638438e-01],\n",
              "       [3.15520823e-01],\n",
              "       [8.76539111e-01],\n",
              "       [1.39849871e-01],\n",
              "       [5.74116111e-01],\n",
              "       [7.19494879e-01],\n",
              "       [2.20398884e-02],\n",
              "       [9.79455829e-01],\n",
              "       [1.14808440e-01],\n",
              "       [5.56228459e-01],\n",
              "       [9.98255312e-01],\n",
              "       [1.23966224e-01],\n",
              "       [2.89880522e-02],\n",
              "       [3.19793910e-01],\n",
              "       [1.20854368e-02],\n",
              "       [4.86513287e-01],\n",
              "       [9.99830484e-01],\n",
              "       [2.64675856e-01],\n",
              "       [9.46996868e-01],\n",
              "       [2.74112582e-01],\n",
              "       [7.86126733e-01],\n",
              "       [2.62539059e-01],\n",
              "       [3.44832748e-01],\n",
              "       [2.39056852e-02],\n",
              "       [6.05847120e-01],\n",
              "       [1.41625693e-02],\n",
              "       [2.55225539e-01],\n",
              "       [9.55206931e-01],\n",
              "       [9.39834118e-01],\n",
              "       [9.94548738e-01],\n",
              "       [8.00622284e-01],\n",
              "       [4.29092422e-02],\n",
              "       [3.39956254e-01],\n",
              "       [1.20023852e-02],\n",
              "       [5.33017993e-01],\n",
              "       [3.32548261e-01],\n",
              "       [8.92878234e-01],\n",
              "       [3.13482843e-02],\n",
              "       [7.93965161e-01],\n",
              "       [8.47863615e-01],\n",
              "       [2.61418015e-01],\n",
              "       [1.92461625e-01],\n",
              "       [2.82681584e-01],\n",
              "       [1.79512367e-01],\n",
              "       [4.60610002e-01],\n",
              "       [6.29005432e-01],\n",
              "       [9.98569131e-01],\n",
              "       [7.29397833e-02],\n",
              "       [8.05499684e-03],\n",
              "       [1.63104720e-02],\n",
              "       [2.61103630e-01],\n",
              "       [2.24306613e-01],\n",
              "       [3.10465172e-02],\n",
              "       [8.15834761e-01],\n",
              "       [1.04780614e-01],\n",
              "       [1.71679094e-01],\n",
              "       [2.11604238e-01],\n",
              "       [2.22630799e-01],\n",
              "       [9.34838712e-01],\n",
              "       [1.78645521e-01],\n",
              "       [5.37806213e-01],\n",
              "       [3.23610991e-01],\n",
              "       [1.25956247e-02],\n",
              "       [9.05166045e-02],\n",
              "       [9.99748528e-01],\n",
              "       [8.49294782e-01],\n",
              "       [3.25044058e-03],\n",
              "       [3.61462176e-01],\n",
              "       [1.85059145e-01],\n",
              "       [7.62545466e-02],\n",
              "       [8.85061145e-01],\n",
              "       [5.00355422e-01],\n",
              "       [6.56041384e-01],\n",
              "       [3.36210400e-01],\n",
              "       [2.05196694e-01],\n",
              "       [5.99231720e-01],\n",
              "       [1.72884330e-01],\n",
              "       [4.57134210e-02],\n",
              "       [9.00922477e-01],\n",
              "       [1.90088108e-01],\n",
              "       [3.79343510e-01],\n",
              "       [9.76523101e-01],\n",
              "       [3.51717830e-01],\n",
              "       [4.41667110e-01],\n",
              "       [1.17165281e-03],\n",
              "       [3.05973321e-01],\n",
              "       [7.95539856e-01],\n",
              "       [9.99705136e-01],\n",
              "       [6.86918855e-01],\n",
              "       [4.54620309e-02],\n",
              "       [9.91848111e-01],\n",
              "       [4.38089043e-01],\n",
              "       [8.80534470e-01],\n",
              "       [4.38089043e-01],\n",
              "       [9.93061960e-01],\n",
              "       [1.10691953e-02],\n",
              "       [4.26057637e-01],\n",
              "       [9.19673815e-02],\n",
              "       [9.76138949e-01],\n",
              "       [2.28123605e-01],\n",
              "       [4.26694185e-01],\n",
              "       [5.95878772e-02],\n",
              "       [3.62811744e-01],\n",
              "       [9.70337242e-02],\n",
              "       [1.86606757e-02],\n",
              "       [2.68759936e-01],\n",
              "       [6.58030957e-02],\n",
              "       [1.01298325e-01],\n",
              "       [8.00471246e-01],\n",
              "       [2.47640144e-02],\n",
              "       [1.32818148e-01],\n",
              "       [3.46015505e-02],\n",
              "       [1.60722770e-02],\n",
              "       [1.26537040e-01],\n",
              "       [6.22119188e-01],\n",
              "       [7.32637942e-02],\n",
              "       [6.00657463e-01],\n",
              "       [1.36470288e-01],\n",
              "       [2.29811683e-01],\n",
              "       [8.97323608e-01],\n",
              "       [1.72097757e-01],\n",
              "       [5.28038703e-02],\n",
              "       [5.87977283e-02],\n",
              "       [6.93247374e-03],\n",
              "       [9.89486456e-01],\n",
              "       [1.60722770e-02],\n",
              "       [3.54924083e-01],\n",
              "       [9.91257966e-01],\n",
              "       [9.93744791e-01],\n",
              "       [9.98195112e-01],\n",
              "       [9.99888062e-01],\n",
              "       [9.99598086e-01],\n",
              "       [2.22042680e-01],\n",
              "       [8.19369331e-02],\n",
              "       [2.60821491e-01],\n",
              "       [5.70289075e-01],\n",
              "       [9.96954322e-01],\n",
              "       [5.01109600e-01],\n",
              "       [2.42878124e-01],\n",
              "       [5.53972781e-01],\n",
              "       [6.98633432e-01],\n",
              "       [3.10564339e-02],\n",
              "       [6.40448555e-03],\n",
              "       [9.23862681e-02],\n",
              "       [3.60640526e-01],\n",
              "       [7.52064353e-03],\n",
              "       [7.18040541e-02],\n",
              "       [3.89853895e-01],\n",
              "       [9.89121020e-01],\n",
              "       [2.63530090e-02],\n",
              "       [9.21366930e-01],\n",
              "       [7.22693861e-01],\n",
              "       [7.65494928e-02],\n",
              "       [3.22456121e-01],\n",
              "       [1.19405910e-01],\n",
              "       [7.83612072e-01],\n",
              "       [4.32149678e-01],\n",
              "       [8.52509588e-03]], dtype=float32)"
            ]
          },
          "metadata": {
            "tags": []
          },
          "execution_count": 28
        }
      ]
    },
    {
      "cell_type": "code",
      "metadata": {
        "id": "6zkEH-e6K_Lp"
      },
      "source": [
        "model_1_preds = tf.squeeze(tf.round(model_1_pred_probs))\n",
        "model_1_results = calculate_results(y_true=val_labels, \n",
        "                                    y_pred=model_1_preds)"
      ],
      "execution_count": 29,
      "outputs": []
    },
    {
      "cell_type": "code",
      "metadata": {
        "colab": {
          "base_uri": "https://localhost:8080/"
        },
        "id": "1TjzsrVUL6t1",
        "outputId": "6ffcf099-4fda-4aa0-c504-acec1e71527a"
      },
      "source": [
        "model_1_results"
      ],
      "execution_count": 30,
      "outputs": [
        {
          "output_type": "execute_result",
          "data": {
            "text/plain": [
              "{'accuracy': 78.34645669291339,\n",
              " 'f1': 0.7809185675137833,\n",
              " 'precision': 0.7868445599717488,\n",
              " 'recall': 0.7834645669291339}"
            ]
          },
          "metadata": {
            "tags": []
          },
          "execution_count": 30
        }
      ]
    },
    {
      "cell_type": "code",
      "metadata": {
        "colab": {
          "base_uri": "https://localhost:8080/"
        },
        "id": "CkDppzV0L8VL",
        "outputId": "71c3bd9c-a181-4bf4-ce66-4c9a61db4188"
      },
      "source": [
        "baseline_results"
      ],
      "execution_count": 31,
      "outputs": [
        {
          "output_type": "execute_result",
          "data": {
            "text/plain": [
              "{'accuracy': 79.26509186351706,\n",
              " 'f1': 0.7862189758049549,\n",
              " 'precision': 0.8111390004213173,\n",
              " 'recall': 0.7926509186351706}"
            ]
          },
          "metadata": {
            "tags": []
          },
          "execution_count": 31
        }
      ]
    },
    {
      "cell_type": "code",
      "metadata": {
        "id": "iFmbVKF9MdE-"
      },
      "source": [
        "word_in_vocab = text_vectorizer.get_vocabulary()\n",
        "#weights matrix of tokens\n",
        "\n",
        "embed_weights = model_1.get_layer(\"embedding\").get_weights()[0]\n"
      ],
      "execution_count": 32,
      "outputs": []
    },
    {
      "cell_type": "code",
      "metadata": {
        "id": "T4Uo0ctGNv2k"
      },
      "source": [
        "import io\n",
        "out_v = io.open('vectors.tsv', 'w', encoding='utf-8')\n",
        "out_m = io.open('metadata.tsv', 'w', encoding='utf-8')\n",
        "\n",
        "for index, word in enumerate(word_in_vocab):\n",
        "  if index == 0:\n",
        "    continue  # skip 0, it's padding.\n",
        "  vec = embed_weights[index]\n",
        "  out_v.write('\\t'.join([str(x) for x in vec]) + \"\\n\")\n",
        "  out_m.write(word + \"\\n\")\n",
        "out_v.close()\n",
        "out_m.close()"
      ],
      "execution_count": 33,
      "outputs": []
    },
    {
      "cell_type": "code",
      "metadata": {
        "colab": {
          "base_uri": "https://localhost:8080/",
          "height": 17
        },
        "id": "VW8cegSeORPe",
        "outputId": "4dba12ba-9fd1-4eea-a781-9727e623b992"
      },
      "source": [
        "try:\n",
        "  from google.colab import files\n",
        "  files.download('vectors.tsv')\n",
        "  files.download('metadata.tsv')\n",
        "except Exception:\n",
        "  pass"
      ],
      "execution_count": 34,
      "outputs": [
        {
          "output_type": "display_data",
          "data": {
            "application/javascript": [
              "\n",
              "    async function download(id, filename, size) {\n",
              "      if (!google.colab.kernel.accessAllowed) {\n",
              "        return;\n",
              "      }\n",
              "      const div = document.createElement('div');\n",
              "      const label = document.createElement('label');\n",
              "      label.textContent = `Downloading \"${filename}\": `;\n",
              "      div.appendChild(label);\n",
              "      const progress = document.createElement('progress');\n",
              "      progress.max = size;\n",
              "      div.appendChild(progress);\n",
              "      document.body.appendChild(div);\n",
              "\n",
              "      const buffers = [];\n",
              "      let downloaded = 0;\n",
              "\n",
              "      const channel = await google.colab.kernel.comms.open(id);\n",
              "      // Send a message to notify the kernel that we're ready.\n",
              "      channel.send({})\n",
              "\n",
              "      for await (const message of channel.messages) {\n",
              "        // Send a message to notify the kernel that we're ready.\n",
              "        channel.send({})\n",
              "        if (message.buffers) {\n",
              "          for (const buffer of message.buffers) {\n",
              "            buffers.push(buffer);\n",
              "            downloaded += buffer.byteLength;\n",
              "            progress.value = downloaded;\n",
              "          }\n",
              "        }\n",
              "      }\n",
              "      const blob = new Blob(buffers, {type: 'application/binary'});\n",
              "      const a = document.createElement('a');\n",
              "      a.href = window.URL.createObjectURL(blob);\n",
              "      a.download = filename;\n",
              "      div.appendChild(a);\n",
              "      a.click();\n",
              "      div.remove();\n",
              "    }\n",
              "  "
            ],
            "text/plain": [
              "<IPython.core.display.Javascript object>"
            ]
          },
          "metadata": {
            "tags": []
          }
        },
        {
          "output_type": "display_data",
          "data": {
            "application/javascript": [
              "download(\"download_b66f2f9d-b469-4622-bcec-7d2b5cd71bb5\", \"vectors.tsv\", 15376800)"
            ],
            "text/plain": [
              "<IPython.core.display.Javascript object>"
            ]
          },
          "metadata": {
            "tags": []
          }
        },
        {
          "output_type": "display_data",
          "data": {
            "application/javascript": [
              "\n",
              "    async function download(id, filename, size) {\n",
              "      if (!google.colab.kernel.accessAllowed) {\n",
              "        return;\n",
              "      }\n",
              "      const div = document.createElement('div');\n",
              "      const label = document.createElement('label');\n",
              "      label.textContent = `Downloading \"${filename}\": `;\n",
              "      div.appendChild(label);\n",
              "      const progress = document.createElement('progress');\n",
              "      progress.max = size;\n",
              "      div.appendChild(progress);\n",
              "      document.body.appendChild(div);\n",
              "\n",
              "      const buffers = [];\n",
              "      let downloaded = 0;\n",
              "\n",
              "      const channel = await google.colab.kernel.comms.open(id);\n",
              "      // Send a message to notify the kernel that we're ready.\n",
              "      channel.send({})\n",
              "\n",
              "      for await (const message of channel.messages) {\n",
              "        // Send a message to notify the kernel that we're ready.\n",
              "        channel.send({})\n",
              "        if (message.buffers) {\n",
              "          for (const buffer of message.buffers) {\n",
              "            buffers.push(buffer);\n",
              "            downloaded += buffer.byteLength;\n",
              "            progress.value = downloaded;\n",
              "          }\n",
              "        }\n",
              "      }\n",
              "      const blob = new Blob(buffers, {type: 'application/binary'});\n",
              "      const a = document.createElement('a');\n",
              "      a.href = window.URL.createObjectURL(blob);\n",
              "      a.download = filename;\n",
              "      div.appendChild(a);\n",
              "      a.click();\n",
              "      div.remove();\n",
              "    }\n",
              "  "
            ],
            "text/plain": [
              "<IPython.core.display.Javascript object>"
            ]
          },
          "metadata": {
            "tags": []
          }
        },
        {
          "output_type": "display_data",
          "data": {
            "application/javascript": [
              "download(\"download_82c8a970-3050-43c9-b6d7-7b45e5122fdf\", \"metadata.tsv\", 80388)"
            ],
            "text/plain": [
              "<IPython.core.display.Javascript object>"
            ]
          },
          "metadata": {
            "tags": []
          }
        }
      ]
    },
    {
      "cell_type": "code",
      "metadata": {
        "id": "GFfsiDVxOqub"
      },
      "source": [
        "#NLP WITH LSTM (RNNs)\n",
        "\n",
        "from tensorflow.keras import layers\n",
        "inputs = layers.Input(shape=(1,), dtype=tf.string, name='Input_Layer')\n",
        "x = text_vectorizer(inputs)\n",
        "x = embedding(x)\n",
        "#x = layers.LSTM(64, return_sequences=True)\n",
        "x = layers.LSTM(64)(x)\n",
        "outputs = layers.Dense(1, activation = 'sigmoid')(x)\n",
        "model_2 = tf.keras.Model(inputs, outputs, name='model_2_LSTM')"
      ],
      "execution_count": 35,
      "outputs": []
    },
    {
      "cell_type": "code",
      "metadata": {
        "colab": {
          "base_uri": "https://localhost:8080/"
        },
        "id": "lOKenWb7Xe6d",
        "outputId": "1cd74dbe-34d4-4d71-ec37-b44c0b1b5ddd"
      },
      "source": [
        "model_2.summary()"
      ],
      "execution_count": 36,
      "outputs": [
        {
          "output_type": "stream",
          "text": [
            "Model: \"model_2_LSTM\"\n",
            "_________________________________________________________________\n",
            "Layer (type)                 Output Shape              Param #   \n",
            "=================================================================\n",
            "Input_Layer (InputLayer)     [(None, 1)]               0         \n",
            "_________________________________________________________________\n",
            "text_vectorization_1 (TextVe (None, 15)                0         \n",
            "_________________________________________________________________\n",
            "embedding (Embedding)        (None, 15, 128)           1280000   \n",
            "_________________________________________________________________\n",
            "lstm (LSTM)                  (None, 64)                49408     \n",
            "_________________________________________________________________\n",
            "dense_1 (Dense)              (None, 1)                 65        \n",
            "=================================================================\n",
            "Total params: 1,329,473\n",
            "Trainable params: 1,329,473\n",
            "Non-trainable params: 0\n",
            "_________________________________________________________________\n"
          ],
          "name": "stdout"
        }
      ]
    },
    {
      "cell_type": "code",
      "metadata": {
        "colab": {
          "base_uri": "https://localhost:8080/"
        },
        "id": "h2d95OqHXv_P",
        "outputId": "87c6dc6b-cc0e-4bca-ace3-9c1e920b4562"
      },
      "source": [
        "model_2.compile(loss='binary_crossentropy',\n",
        "                optimizer='Adam',\n",
        "                metrics=['accuracy'])\n",
        "model_2_history = model_2.fit(train_sentences, train_labels,\n",
        "                              epochs=5, validation_data=(val_sentences, val_labels),\n",
        "                              callbacks=[create_tensorboard_callback(SAVE_DIR, 'model_2_LSTM')])"
      ],
      "execution_count": 37,
      "outputs": [
        {
          "output_type": "stream",
          "text": [
            "Saving TensorBoard log files to: model_log/model_2_LSTM/20210721-083108\n",
            "Epoch 1/5\n",
            "215/215 [==============================] - 10s 26ms/step - loss: 0.2214 - accuracy: 0.9212 - val_loss: 0.5988 - val_accuracy: 0.7756\n",
            "Epoch 2/5\n",
            "215/215 [==============================] - 4s 21ms/step - loss: 0.1594 - accuracy: 0.9406 - val_loss: 0.6744 - val_accuracy: 0.7795\n",
            "Epoch 3/5\n",
            "215/215 [==============================] - 5s 21ms/step - loss: 0.1257 - accuracy: 0.9517 - val_loss: 0.6909 - val_accuracy: 0.7808\n",
            "Epoch 4/5\n",
            "215/215 [==============================] - 5s 21ms/step - loss: 0.1115 - accuracy: 0.9602 - val_loss: 0.7911 - val_accuracy: 0.7874\n",
            "Epoch 5/5\n",
            "215/215 [==============================] - 5s 21ms/step - loss: 0.0874 - accuracy: 0.9679 - val_loss: 0.9087 - val_accuracy: 0.7756\n"
          ],
          "name": "stdout"
        }
      ]
    },
    {
      "cell_type": "code",
      "metadata": {
        "id": "AqrFHlKWY2H8"
      },
      "source": [
        "model_2_pred_probs = model_2.predict(val_sentences)\n",
        "model_2_preds = tf.squeeze(tf.round(model_2_pred_probs))"
      ],
      "execution_count": 38,
      "outputs": []
    },
    {
      "cell_type": "code",
      "metadata": {
        "colab": {
          "base_uri": "https://localhost:8080/"
        },
        "id": "jFLa3Y8yZJu3",
        "outputId": "701e15bf-048f-46a7-83e8-13e7ffcd2dfc"
      },
      "source": [
        "model_2_results = calculate_results(val_labels,\n",
        "                                    model_2_preds)\n",
        "model_2_results"
      ],
      "execution_count": 39,
      "outputs": [
        {
          "output_type": "execute_result",
          "data": {
            "text/plain": [
              "{'accuracy': 77.55905511811024,\n",
              " 'f1': 0.7725109164504043,\n",
              " 'precision': 0.7797991425654591,\n",
              " 'recall': 0.7755905511811023}"
            ]
          },
          "metadata": {
            "tags": []
          },
          "execution_count": 39
        }
      ]
    },
    {
      "cell_type": "code",
      "metadata": {
        "colab": {
          "base_uri": "https://localhost:8080/"
        },
        "id": "KZ65auaYZWH3",
        "outputId": "5b98107b-cd4e-4874-cd7d-562d253de5e2"
      },
      "source": [
        "baseline_results"
      ],
      "execution_count": 40,
      "outputs": [
        {
          "output_type": "execute_result",
          "data": {
            "text/plain": [
              "{'accuracy': 79.26509186351706,\n",
              " 'f1': 0.7862189758049549,\n",
              " 'precision': 0.8111390004213173,\n",
              " 'recall': 0.7926509186351706}"
            ]
          },
          "metadata": {
            "tags": []
          },
          "execution_count": 40
        }
      ]
    },
    {
      "cell_type": "code",
      "metadata": {
        "colab": {
          "base_uri": "https://localhost:8080/"
        },
        "id": "Xj0sMKsWZZ0r",
        "outputId": "5bb08b9e-afb3-4622-eb1f-04ceee3c43c5"
      },
      "source": [
        "#NLP WITH GRU\n",
        "from tensorflow.keras import layers\n",
        "inputs = layers.Input(shape=(1,), dtype=tf.string,\n",
        "                      name='Input_Layer')\n",
        "x = text_vectorizer(inputs)\n",
        "x = embedding(x)\n",
        "x = layers.GRU(64, name='GRU_LAYER')(x)\n",
        "#x= layers.GlobalAveragePooling1D()(x)\n",
        "outputs = layers.Dense(1, activation='sigmoid')(x)\n",
        "model_3 = tf.keras.Model(inputs, outputs, name='MODEL_3_GRU')\n",
        "model_3.compile(loss='binary_crossentropy',\n",
        "                optimizer= 'Adam',\n",
        "                metrics=['accuracy'])\n",
        "model_3.fit(train_sentences, train_labels,\n",
        "            epochs=5, validation_data = (val_sentences, val_labels),\n",
        "            callbacks=[create_tensorboard_callback(dir_name=SAVE_DIR, experiment_name='MODEL_3_GRU')])"
      ],
      "execution_count": 41,
      "outputs": [
        {
          "output_type": "stream",
          "text": [
            "Saving TensorBoard log files to: model_log/MODEL_3_GRU/20210721-083137\n",
            "Epoch 1/5\n",
            "215/215 [==============================] - 8s 26ms/step - loss: 0.1525 - accuracy: 0.9394 - val_loss: 0.7906 - val_accuracy: 0.7743\n",
            "Epoch 2/5\n",
            "215/215 [==============================] - 4s 20ms/step - loss: 0.0835 - accuracy: 0.9679 - val_loss: 0.7700 - val_accuracy: 0.7769\n",
            "Epoch 3/5\n",
            "215/215 [==============================] - 4s 20ms/step - loss: 0.0717 - accuracy: 0.9721 - val_loss: 1.0995 - val_accuracy: 0.7769\n",
            "Epoch 4/5\n",
            "215/215 [==============================] - 4s 20ms/step - loss: 0.0593 - accuracy: 0.9758 - val_loss: 1.0143 - val_accuracy: 0.7730\n",
            "Epoch 5/5\n",
            "215/215 [==============================] - 4s 20ms/step - loss: 0.0535 - accuracy: 0.9772 - val_loss: 0.9995 - val_accuracy: 0.7677\n"
          ],
          "name": "stdout"
        },
        {
          "output_type": "execute_result",
          "data": {
            "text/plain": [
              "<tensorflow.python.keras.callbacks.History at 0x7f5df152c150>"
            ]
          },
          "metadata": {
            "tags": []
          },
          "execution_count": 41
        }
      ]
    },
    {
      "cell_type": "code",
      "metadata": {
        "id": "h5-9hqE3d3pr"
      },
      "source": [
        "model_3_pred_probs = model_3.predict(val_sentences)\n",
        "model_3_preds = tf.squeeze(tf.round(model_3_pred_probs))"
      ],
      "execution_count": 42,
      "outputs": []
    },
    {
      "cell_type": "code",
      "metadata": {
        "colab": {
          "base_uri": "https://localhost:8080/"
        },
        "id": "WfGn8bX0dlXA",
        "outputId": "8784b4e6-e4e8-4845-a140-2577a4decd8a"
      },
      "source": [
        "model_3_results = calculate_results(val_labels,\n",
        "                                    model_3_preds)\n",
        "model_3_results"
      ],
      "execution_count": 43,
      "outputs": [
        {
          "output_type": "execute_result",
          "data": {
            "text/plain": [
              "{'accuracy': 76.77165354330708,\n",
              " 'f1': 0.7664937875658134,\n",
              " 'precision': 0.7678558301291274,\n",
              " 'recall': 0.7677165354330708}"
            ]
          },
          "metadata": {
            "tags": []
          },
          "execution_count": 43
        }
      ]
    },
    {
      "cell_type": "code",
      "metadata": {
        "id": "uIsiqBqGe_vd"
      },
      "source": [
        "#NLP USING BI-Directional\n",
        "\n",
        "inputs = layers.Input(shape=(1,), name='Input_Layer',\n",
        "                      dtype=tf.string)\n",
        "x = text_vectorizer(inputs)\n",
        "x = embedding(x)\n",
        "x = layers.Bidirectional(layers.GRU(64, return_sequences=True))(x)\n",
        "x = layers.Bidirectional(layers.LSTM(64))(x)\n",
        "outputs = layers.Dense(1, activation='sigmoid')(x)\n",
        "model_4 = tf.keras.Model(inputs, outputs, name = 'BIdirectional')"
      ],
      "execution_count": 44,
      "outputs": []
    },
    {
      "cell_type": "code",
      "metadata": {
        "colab": {
          "base_uri": "https://localhost:8080/"
        },
        "id": "RYdVLkP0in4X",
        "outputId": "17e85b08-1d67-4e4c-c391-87d6f93c99ba"
      },
      "source": [
        "model_4.compile(loss='binary_crossentropy',\n",
        "                optimizer='Adam',\n",
        "                metrics=['accuracy'])\n",
        "model_4.fit(train_sentences, train_labels,\n",
        "            epochs=5, validation_data=(val_sentences, val_labels),\n",
        "            callbacks=[create_tensorboard_callback(dir_name=SAVE_DIR, experiment_name='MODEL_4_Bidir')])"
      ],
      "execution_count": 45,
      "outputs": [
        {
          "output_type": "stream",
          "text": [
            "Saving TensorBoard log files to: model_log/MODEL_4_Bidir/20210721-083204\n",
            "Epoch 1/5\n",
            "215/215 [==============================] - 16s 46ms/step - loss: 0.1028 - accuracy: 0.9651 - val_loss: 0.9402 - val_accuracy: 0.7782\n",
            "Epoch 2/5\n",
            "215/215 [==============================] - 8s 36ms/step - loss: 0.0535 - accuracy: 0.9780 - val_loss: 1.4887 - val_accuracy: 0.7585\n",
            "Epoch 3/5\n",
            "215/215 [==============================] - 8s 35ms/step - loss: 0.0513 - accuracy: 0.9780 - val_loss: 1.2322 - val_accuracy: 0.7743\n",
            "Epoch 4/5\n",
            "215/215 [==============================] - 7s 35ms/step - loss: 0.0440 - accuracy: 0.9799 - val_loss: 1.3864 - val_accuracy: 0.7717\n",
            "Epoch 5/5\n",
            "215/215 [==============================] - 8s 36ms/step - loss: 0.0429 - accuracy: 0.9799 - val_loss: 1.4915 - val_accuracy: 0.7664\n"
          ],
          "name": "stdout"
        },
        {
          "output_type": "execute_result",
          "data": {
            "text/plain": [
              "<tensorflow.python.keras.callbacks.History at 0x7f5def3da510>"
            ]
          },
          "metadata": {
            "tags": []
          },
          "execution_count": 45
        }
      ]
    },
    {
      "cell_type": "code",
      "metadata": {
        "id": "7vONE-mRiZVj"
      },
      "source": [
        "model_4_pred_probs = model_4.predict(val_sentences)\n",
        "model_4_preds = tf.squeeze(tf.round(model_4_pred_probs))\n",
        "model_4_results = calculate_results(val_labels, model_4_preds)"
      ],
      "execution_count": 46,
      "outputs": []
    },
    {
      "cell_type": "code",
      "metadata": {
        "colab": {
          "base_uri": "https://localhost:8080/"
        },
        "id": "DERXrzrejqna",
        "outputId": "3a746eb9-de3f-4947-9958-0f71ae5c3346"
      },
      "source": [
        "model_4_results"
      ],
      "execution_count": 47,
      "outputs": [
        {
          "output_type": "execute_result",
          "data": {
            "text/plain": [
              "{'accuracy': 76.64041994750657,\n",
              " 'f1': 0.764784113056577,\n",
              " 'precision': 0.7670590562420062,\n",
              " 'recall': 0.7664041994750657}"
            ]
          },
          "metadata": {
            "tags": []
          },
          "execution_count": 47
        }
      ]
    },
    {
      "cell_type": "code",
      "metadata": {
        "colab": {
          "base_uri": "https://localhost:8080/"
        },
        "id": "prrWSKM3kHGY",
        "outputId": "a5f85346-1f08-4ae7-8190-da71616436bb"
      },
      "source": [
        "#NLP WITH CONV1D\n",
        "\n",
        "inputs = layers.Input(shape=(1,), dtype=tf.string, name='Input_Layer')\n",
        "x = text_vectorizer(inputs)\n",
        "x = embedding(x)\n",
        "x = layers.Conv1D(filters=64, kernel_size = 3, padding='valid',\n",
        "                  activation='relu')(x)\n",
        "x = layers.GlobalAveragePooling1D()(x)\n",
        "outputs = layers.Dense(1, activation = 'sigmoid',\n",
        "                       name='Output_Name')(x)\n",
        "model_5 = tf.keras.Model(inputs, outputs, name='Model-5_Conv1D')\n",
        "model_5.summary()"
      ],
      "execution_count": 48,
      "outputs": [
        {
          "output_type": "stream",
          "text": [
            "Model: \"Model-5_Conv1D\"\n",
            "_________________________________________________________________\n",
            "Layer (type)                 Output Shape              Param #   \n",
            "=================================================================\n",
            "Input_Layer (InputLayer)     [(None, 1)]               0         \n",
            "_________________________________________________________________\n",
            "text_vectorization_1 (TextVe (None, 15)                0         \n",
            "_________________________________________________________________\n",
            "embedding (Embedding)        (None, 15, 128)           1280000   \n",
            "_________________________________________________________________\n",
            "conv1d (Conv1D)              (None, 13, 64)            24640     \n",
            "_________________________________________________________________\n",
            "global_average_pooling1d_1 ( (None, 64)                0         \n",
            "_________________________________________________________________\n",
            "Output_Name (Dense)          (None, 1)                 65        \n",
            "=================================================================\n",
            "Total params: 1,304,705\n",
            "Trainable params: 1,304,705\n",
            "Non-trainable params: 0\n",
            "_________________________________________________________________\n"
          ],
          "name": "stdout"
        }
      ]
    },
    {
      "cell_type": "code",
      "metadata": {
        "colab": {
          "base_uri": "https://localhost:8080/"
        },
        "id": "PdYvxw0OocoJ",
        "outputId": "4e201eef-c9b9-4091-9625-cd9669f28827"
      },
      "source": [
        "model_5.compile(loss='binary_crossentropy',\n",
        "                optimizer='Adam',\n",
        "                metrics=['accuracy'])\n",
        "model_5.fit(train_sentences, train_labels,\n",
        "            epochs=5, validation_data=(val_sentences, val_labels),\n",
        "            callbacks=[create_tensorboard_callback(dir_name=SAVE_DIR, experiment_name='MODEL_5_CONV1D')])"
      ],
      "execution_count": 49,
      "outputs": [
        {
          "output_type": "stream",
          "text": [
            "Saving TensorBoard log files to: model_log/MODEL_5_CONV1D/20210721-083254\n",
            "Epoch 1/5\n",
            "215/215 [==============================] - 29s 22ms/step - loss: 0.1694 - accuracy: 0.9504 - val_loss: 0.8149 - val_accuracy: 0.7651\n",
            "Epoch 2/5\n",
            "215/215 [==============================] - 4s 18ms/step - loss: 0.0875 - accuracy: 0.9673 - val_loss: 0.9983 - val_accuracy: 0.7651\n",
            "Epoch 3/5\n",
            "215/215 [==============================] - 4s 18ms/step - loss: 0.0695 - accuracy: 0.9723 - val_loss: 1.1033 - val_accuracy: 0.7507\n",
            "Epoch 4/5\n",
            "215/215 [==============================] - 4s 18ms/step - loss: 0.0606 - accuracy: 0.9729 - val_loss: 1.2137 - val_accuracy: 0.7520\n",
            "Epoch 5/5\n",
            "215/215 [==============================] - 4s 17ms/step - loss: 0.0566 - accuracy: 0.9759 - val_loss: 1.2813 - val_accuracy: 0.7638\n"
          ],
          "name": "stdout"
        },
        {
          "output_type": "execute_result",
          "data": {
            "text/plain": [
              "<tensorflow.python.keras.callbacks.History at 0x7f5dec7918d0>"
            ]
          },
          "metadata": {
            "tags": []
          },
          "execution_count": 49
        }
      ]
    },
    {
      "cell_type": "code",
      "metadata": {
        "colab": {
          "base_uri": "https://localhost:8080/"
        },
        "id": "WVOgQu0spPws",
        "outputId": "6a23201a-d9dd-4c23-fbd7-5e2ca4b7c6d9"
      },
      "source": [
        "model_5_pred_probs = model_5.predict(val_sentences)\n",
        "model_5_preds = tf.squeeze(tf.round(model_5_pred_probs))\n",
        "model_5_results = calculate_results(y_true=val_labels, y_pred=model_5_preds)\n",
        "model_5_results"
      ],
      "execution_count": 50,
      "outputs": [
        {
          "output_type": "execute_result",
          "data": {
            "text/plain": [
              "{'accuracy': 76.37795275590551,\n",
              " 'f1': 0.7616372852178903,\n",
              " 'precision': 0.7652161443395734,\n",
              " 'recall': 0.7637795275590551}"
            ]
          },
          "metadata": {
            "tags": []
          },
          "execution_count": 50
        }
      ]
    },
    {
      "cell_type": "code",
      "metadata": {
        "id": "-6L0nCb5qglc",
        "colab": {
          "base_uri": "https://localhost:8080/"
        },
        "outputId": "ff216110-69d3-4148-c95e-c026cfbbbefa"
      },
      "source": [
        "#Transfer Learning NLP\n",
        "\n",
        "import tensorflow_hub as hub\n",
        "\n",
        "sentence_encoder_layer = hub.KerasLayer('https://tfhub.dev/google/universal-sentence-encoder/4',\n",
        "                                        trainable=False,\n",
        "                                        input_shape=[],\n",
        "                                        dtype=tf.string,\n",
        "                                        name='USE')\n",
        "model_6 = tf.keras.Sequential([sentence_encoder_layer,\n",
        "                               layers.Dense(64, activation='sigmoid'),\n",
        "                               layers.Dense(1, activation='sigmoid'),\n",
        "                               ],\n",
        "                              name='model_6_USE')\n",
        "model_6.compile(loss='binary_crossentropy',\n",
        "                optimizer='Adam',\n",
        "                metrics=['accuracy'])\n",
        "model_6_history = model_6.fit(train_sentences,\n",
        "                              train_labels, epochs=5,\n",
        "                              validation_data=(val_sentences, val_labels),\n",
        "                              callbacks=[create_tensorboard_callback(dir_name=SAVE_DIR, experiment_name='MODEL_6_USE')])\n"
      ],
      "execution_count": 59,
      "outputs": [
        {
          "output_type": "stream",
          "text": [
            "Saving TensorBoard log files to: model_log/MODEL_6_USE/20210721-084713\n",
            "Epoch 1/5\n",
            "215/215 [==============================] - 9s 29ms/step - loss: 0.6135 - accuracy: 0.6946 - val_loss: 0.5415 - val_accuracy: 0.7861\n",
            "Epoch 2/5\n",
            "215/215 [==============================] - 4s 18ms/step - loss: 0.4873 - accuracy: 0.8043 - val_loss: 0.4732 - val_accuracy: 0.7992\n",
            "Epoch 3/5\n",
            "215/215 [==============================] - 4s 17ms/step - loss: 0.4405 - accuracy: 0.8086 - val_loss: 0.4566 - val_accuracy: 0.7953\n",
            "Epoch 4/5\n",
            "215/215 [==============================] - 4s 17ms/step - loss: 0.4232 - accuracy: 0.8133 - val_loss: 0.4506 - val_accuracy: 0.7979\n",
            "Epoch 5/5\n",
            "215/215 [==============================] - 4s 17ms/step - loss: 0.4143 - accuracy: 0.8167 - val_loss: 0.4479 - val_accuracy: 0.8045\n"
          ],
          "name": "stdout"
        }
      ]
    },
    {
      "cell_type": "code",
      "metadata": {
        "colab": {
          "base_uri": "https://localhost:8080/"
        },
        "id": "U8-VAolyPGTR",
        "outputId": "0586cb7e-0016-4657-dbf7-acfe98689115"
      },
      "source": [
        "model_6_pred_probs = model_6.predict(val_sentences)\n",
        "model_6_preds = tf.squeeze(tf.round(model_6_pred_probs))\n",
        "model_6_results = calculate_results(y_true=val_labels,\n",
        "                            y_pred=model_6_preds)\n",
        "model_6_preds\n"
      ],
      "execution_count": 77,
      "outputs": [
        {
          "output_type": "execute_result",
          "data": {
            "text/plain": [
              "<tf.Tensor: shape=(762,), dtype=float32, numpy=\n",
              "array([0., 1., 1., 0., 1., 1., 1., 1., 1., 0., 1., 1., 0., 1., 0., 0., 0.,\n",
              "       1., 0., 0., 1., 0., 1., 0., 1., 1., 0., 0., 0., 0., 1., 1., 0., 1.,\n",
              "       1., 0., 1., 0., 0., 1., 0., 0., 1., 1., 0., 1., 0., 1., 1., 1., 0.,\n",
              "       1., 0., 0., 0., 0., 0., 1., 0., 0., 0., 1., 1., 0., 1., 1., 1., 0.,\n",
              "       0., 1., 0., 0., 1., 0., 0., 1., 0., 0., 0., 1., 1., 1., 1., 0., 1.,\n",
              "       1., 0., 0., 1., 1., 1., 0., 0., 0., 1., 1., 1., 1., 1., 1., 1., 0.,\n",
              "       0., 1., 1., 0., 1., 1., 0., 1., 0., 0., 0., 0., 0., 0., 1., 1., 1.,\n",
              "       1., 1., 0., 1., 1., 1., 1., 0., 0., 0., 0., 0., 1., 1., 1., 1., 0.,\n",
              "       1., 0., 0., 0., 1., 0., 1., 1., 1., 0., 0., 0., 0., 1., 1., 0., 0.,\n",
              "       0., 0., 1., 1., 0., 1., 0., 1., 0., 0., 1., 0., 0., 1., 0., 1., 0.,\n",
              "       1., 1., 1., 0., 1., 0., 1., 1., 1., 1., 0., 1., 1., 1., 1., 0., 0.,\n",
              "       1., 1., 0., 0., 1., 0., 0., 0., 0., 0., 0., 0., 0., 0., 1., 1., 0.,\n",
              "       0., 1., 0., 1., 1., 1., 0., 1., 0., 0., 0., 0., 1., 1., 1., 0., 1.,\n",
              "       0., 0., 0., 1., 0., 0., 1., 1., 0., 1., 0., 1., 0., 1., 1., 0., 1.,\n",
              "       1., 0., 1., 0., 1., 1., 0., 0., 1., 0., 0., 1., 0., 1., 0., 1., 1.,\n",
              "       0., 1., 1., 0., 0., 1., 0., 0., 1., 1., 1., 1., 0., 0., 0., 0., 0.,\n",
              "       1., 0., 1., 1., 0., 0., 1., 0., 0., 0., 1., 0., 0., 1., 1., 0., 1.,\n",
              "       0., 1., 1., 0., 1., 0., 1., 0., 1., 0., 1., 1., 0., 0., 1., 0., 0.,\n",
              "       0., 1., 0., 0., 0., 1., 1., 0., 1., 0., 1., 1., 0., 0., 0., 0., 1.,\n",
              "       0., 1., 0., 0., 1., 0., 1., 1., 0., 1., 0., 0., 1., 0., 0., 1., 1.,\n",
              "       0., 0., 1., 1., 1., 0., 0., 0., 0., 0., 0., 0., 0., 0., 1., 0., 1.,\n",
              "       1., 1., 1., 1., 0., 1., 1., 1., 0., 0., 0., 0., 0., 1., 0., 0., 0.,\n",
              "       0., 0., 0., 0., 0., 0., 1., 1., 0., 0., 1., 1., 0., 0., 1., 0., 0.,\n",
              "       0., 0., 1., 1., 1., 0., 1., 0., 1., 1., 0., 1., 1., 0., 1., 0., 1.,\n",
              "       0., 0., 1., 0., 0., 0., 1., 1., 0., 1., 0., 0., 1., 1., 1., 1., 0.,\n",
              "       1., 0., 1., 0., 1., 0., 0., 0., 1., 0., 0., 0., 0., 1., 1., 1., 1.,\n",
              "       0., 0., 0., 1., 0., 0., 0., 0., 0., 1., 1., 1., 1., 1., 0., 0., 1.,\n",
              "       1., 1., 0., 0., 1., 1., 1., 0., 0., 1., 0., 0., 1., 1., 0., 1., 1.,\n",
              "       1., 1., 0., 0., 0., 0., 0., 1., 0., 1., 0., 0., 0., 0., 0., 1., 0.,\n",
              "       0., 0., 0., 0., 1., 0., 1., 1., 0., 0., 1., 0., 1., 0., 1., 0., 0.,\n",
              "       0., 0., 0., 1., 1., 0., 1., 1., 1., 1., 1., 0., 1., 1., 0., 0., 0.,\n",
              "       0., 1., 1., 1., 1., 0., 0., 1., 0., 0., 0., 0., 1., 0., 1., 0., 0.,\n",
              "       0., 0., 0., 1., 1., 1., 1., 1., 0., 1., 0., 1., 0., 0., 0., 0., 0.,\n",
              "       0., 1., 1., 1., 0., 1., 1., 0., 0., 1., 1., 1., 0., 0., 1., 0., 1.,\n",
              "       1., 0., 0., 0., 1., 0., 0., 1., 0., 0., 1., 0., 0., 0., 1., 0., 0.,\n",
              "       1., 0., 1., 1., 0., 0., 0., 1., 0., 1., 0., 0., 0., 0., 1., 0., 1.,\n",
              "       0., 0., 1., 0., 0., 0., 0., 1., 1., 0., 1., 0., 1., 0., 1., 1., 1.,\n",
              "       0., 1., 1., 1., 1., 1., 0., 1., 0., 1., 0., 1., 0., 1., 0., 0., 0.,\n",
              "       0., 0., 1., 1., 1., 0., 0., 0., 0., 0., 0., 1., 0., 0., 0., 0., 1.,\n",
              "       0., 0., 0., 0., 0., 1., 1., 0., 0., 0., 0., 1., 0., 1., 1., 0., 1.,\n",
              "       0., 0., 0., 1., 0., 1., 0., 0., 0., 0., 1., 1., 0., 0., 1., 1., 1.,\n",
              "       1., 1., 0., 0., 0., 1., 0., 1., 0., 0., 0., 0., 0., 0., 0., 1., 0.,\n",
              "       0., 0., 0., 0., 1., 0., 1., 0., 0., 1., 0., 0., 0., 0., 1., 0., 0.,\n",
              "       1., 1., 1., 1., 1., 0., 0., 0., 1., 1., 1., 0., 0., 1., 1., 0., 0.,\n",
              "       0., 0., 0., 1., 1., 0., 1., 1., 0., 0., 0., 1., 1., 0.],\n",
              "      dtype=float32)>"
            ]
          },
          "metadata": {
            "tags": []
          },
          "execution_count": 77
        }
      ]
    },
    {
      "cell_type": "code",
      "metadata": {
        "colab": {
          "base_uri": "https://localhost:8080/"
        },
        "id": "33r9YAAeRkwj",
        "outputId": "e4e1c764-a371-43e7-869b-d5aee4cf87d3"
      },
      "source": [
        "model_7 = tf.keras.Sequential([sentence_encoder_layer,\n",
        "                               layers.Dense(64, activation='sigmoid'),\n",
        "                               layers.Dense(1, activation='sigmoid'),\n",
        "                               ],\n",
        "                              name='model_7_USE')\n",
        "model_7.compile(loss='binary_crossentropy',\n",
        "                optimizer='Adam',\n",
        "                metrics=['accuracy'])\n",
        "model_7_history = model_7.fit(train_sentences_10_percent,\n",
        "                              train_labels_10_percent, epochs=5,\n",
        "                              validation_data=(val_sentences, val_labels),\n",
        "                              callbacks=[create_tensorboard_callback(dir_name=SAVE_DIR, experiment_name='MODEL_7_USE')])"
      ],
      "execution_count": 73,
      "outputs": [
        {
          "output_type": "stream",
          "text": [
            "Saving TensorBoard log files to: model_log/MODEL_7_USE/20210721-090128\n",
            "Epoch 1/5\n",
            "24/24 [==============================] - 3s 102ms/step - loss: 0.7188 - accuracy: 0.4717 - val_loss: 0.6722 - val_accuracy: 0.7388\n",
            "Epoch 2/5\n",
            "24/24 [==============================] - 1s 43ms/step - loss: 0.6579 - accuracy: 0.6097 - val_loss: 0.6439 - val_accuracy: 0.6037\n",
            "Epoch 3/5\n",
            "24/24 [==============================] - 1s 44ms/step - loss: 0.6328 - accuracy: 0.7267 - val_loss: 0.6182 - val_accuracy: 0.8018\n",
            "Epoch 4/5\n",
            "24/24 [==============================] - 1s 44ms/step - loss: 0.6100 - accuracy: 0.7950 - val_loss: 0.5961 - val_accuracy: 0.8058\n",
            "Epoch 5/5\n",
            "24/24 [==============================] - 1s 43ms/step - loss: 0.5888 - accuracy: 0.8081 - val_loss: 0.5755 - val_accuracy: 0.8097\n"
          ],
          "name": "stdout"
        }
      ]
    },
    {
      "cell_type": "code",
      "metadata": {
        "colab": {
          "base_uri": "https://localhost:8080/"
        },
        "id": "ZSRyEOM8SGAU",
        "outputId": "86537fb3-516f-49ce-ef5c-6c7437291ede"
      },
      "source": [
        "model_7_pred_probs = model_7.predict(val_sentences)\n",
        "model_7_preds = tf.squeeze(tf.round(model_7_pred_probs))\n",
        "results = calculate_results(y_true=val_labels,\n",
        "                            y_pred=model_7_preds)\n",
        "model_7_preds.shape\n"
      ],
      "execution_count": 87,
      "outputs": [
        {
          "output_type": "execute_result",
          "data": {
            "text/plain": [
              "TensorShape([762])"
            ]
          },
          "metadata": {
            "tags": []
          },
          "execution_count": 87
        }
      ]
    },
    {
      "cell_type": "code",
      "metadata": {
        "id": "_xQE_USsTJV3"
      },
      "source": [
        "train_10_percent_split = int(0.1*len(train_sentences))\n",
        "train_sentences_10_percent = train_sentences[:train_10_percent_split]\n",
        "train_labels_10_percent = train_labels[:train_10_percent_split]"
      ],
      "execution_count": 75,
      "outputs": []
    },
    {
      "cell_type": "code",
      "metadata": {
        "id": "EZ5bOWaeVWNH"
      },
      "source": [
        "import pandas as pd\n",
        "all_model_results = pd.DataFrame({\"baseline\":baseline_results,\n",
        "                                  \"model_1\": model_1_results,\n",
        "                                  \"model_2\":model_2_results,\n",
        "                                  \"model_3\":model_3_results,\n",
        "                                  \"model_4\":model_4_results,\n",
        "                                  \"model_5\":model_5_results,\n",
        "                                  \"model_6\":model_6_results,\n",
        "                                  \"model_7\":results})\n",
        "all_model_results = all_model_results.transpose()"
      ],
      "execution_count": 81,
      "outputs": []
    },
    {
      "cell_type": "code",
      "metadata": {
        "id": "OOEAXjLoXNqb"
      },
      "source": [
        "all_model_results['accuracy'] = all_model_results['accuracy']/100"
      ],
      "execution_count": 82,
      "outputs": []
    },
    {
      "cell_type": "code",
      "metadata": {
        "colab": {
          "base_uri": "https://localhost:8080/",
          "height": 479
        },
        "id": "dm2OzEsVXhM1",
        "outputId": "185a0780-6894-47c6-976c-3471036ccd50"
      },
      "source": [
        "all_model_results.plot(kind='bar', figsize=(10,7))"
      ],
      "execution_count": 83,
      "outputs": [
        {
          "output_type": "execute_result",
          "data": {
            "text/plain": [
              "<matplotlib.axes._subplots.AxesSubplot at 0x7f5d950a9ed0>"
            ]
          },
          "metadata": {
            "tags": []
          },
          "execution_count": 83
        },
        {
          "output_type": "display_data",
          "data": {
            "image/png": "[encoded data removed]",
            "text/plain": [
              "<Figure size 720x504 with 1 Axes>"
            ]
          },
          "metadata": {
            "tags": [],
            "needs_background": "light"
          }
        }
      ]
    },
    {
      "cell_type": "code",
      "metadata": {
        "colab": {
          "base_uri": "https://localhost:8080/",
          "height": 479
        },
        "id": "4os9FcLvXzYM",
        "outputId": "2f2ee09d-2f5d-48a0-927a-d65f96a3f4fb"
      },
      "source": [
        "all_model_results.sort_values('f1', ascending=False)['f1'].plot(kind='bar', figsize=(10, 7))"
      ],
      "execution_count": 85,
      "outputs": [
        {
          "output_type": "execute_result",
          "data": {
            "text/plain": [
              "<matplotlib.axes._subplots.AxesSubplot at 0x7f5d92dd6050>"
            ]
          },
          "metadata": {
            "tags": []
          },
          "execution_count": 85
        },
        {
          "output_type": "display_data",
          "data": {
            "image/png": "[encoded data removed]",
            "text/plain": [
              "<Figure size 720x504 with 1 Axes>"
            ]
          },
          "metadata": {
            "tags": [],
            "needs_background": "light"
          }
        }
      ]
    },
    {
      "cell_type": "code",
      "metadata": {
        "colab": {
          "base_uri": "https://localhost:8080/"
        },
        "id": "Uljuvrf3YOUr",
        "outputId": "7cf7f266-199c-485e-cd73-bb8426b607fe"
      },
      "source": [
        "!tensorboard dev upload --logdir ./model_logs/\\\n",
        " --name \"NLP Models on Tweets for Disaster\""
      ],
      "execution_count": 86,
      "outputs": [
        {
          "output_type": "stream",
          "text": [
            "2021-07-21 09:27:33.658441: I tensorflow/stream_executor/platform/default/dso_loader.cc:53] Successfully opened dynamic library libcudart.so.11.0\n",
            "\n",
            "***** TensorBoard Uploader *****\n",
            "\n",
            "This will upload your TensorBoard logs to https://tensorboard.dev/ from\n",
            "the following directory:\n",
            "\n",
            "./model_logs/\n",
            "\n",
            "This TensorBoard will be visible to everyone. Do not upload sensitive\n",
            "data.\n",
            "\n",
            "Your use of this service is subject to Google's Terms of Service\n",
            "<https://policies.google.com/terms> and Privacy Policy\n",
            "<https://policies.google.com/privacy>, and TensorBoard.dev's Terms of Service\n",
            "<https://tensorboard.dev/policy/terms/>.\n",
            "\n",
            "This notice will not be shown again while you are logged into the uploader.\n",
            "To log out, run `tensorboard dev auth revoke`.\n",
            "\n",
            "Continue? (yes/NO) yes\n",
            "\n",
            "Please visit this URL to authorize this application: https://accounts.google.com/o/oauth2/auth?response_type=code&client_id=373649185512-8v619h5kft38l4456nm2dj4ubeqsrvh6.apps.googleusercontent.com&redirect_uri=urn%3Aietf%3Awg%3Aoauth%3A2.0%3Aoob&scope=openid+https%3A%2F%2Fwww.googleapis.com%2Fauth%2Fuserinfo.email&state=NJqXnLPpn0SAK4cAFalLOl4l6fZ5ii&prompt=consent&access_type=offline\n",
            "Enter the authorization code: Traceback (most recent call last):\n",
            "  File \"/usr/local/bin/tensorboard\", line 8, in <module>\n",
            "    sys.exit(run_main())\n",
            "  File \"/usr/local/lib/python3.7/dist-packages/tensorboard/main.py\", line 46, in run_main\n",
            "  File \"/usr/local/lib/python3.7/dist-packages/absl/app.py\", line 303, in run\n",
            "    _run_main(main, args)\n",
            "  File \"/usr/local/lib/python3.7/dist-packages/absl/app.py\", line 251, in _run_main\n",
            "    sys.exit(main(argv))\n",
            "  File \"/usr/local/lib/python3.7/dist-packages/tensorboard/program.py\", line 276, in main\n",
            "    return runner(self.flags) or 0\n",
            "  File \"/usr/local/lib/python3.7/dist-packages/tensorboard/uploader/uploader_subcommand.py\", line 654, in run\n",
            "    return _run(flags, self._experiment_url_callback)\n",
            "  File \"/usr/local/lib/python3.7/dist-packages/tensorboard/uploader/uploader_subcommand.py\", line 96, in _run\n",
            "    credentials = flow.run(force_console=flags.auth_force_console)\n",
            "  File \"/usr/local/lib/python3.7/dist-packages/tensorboard/uploader/auth.py\", line 181, in run\n",
            "    return self.run_console()\n",
            "  File \"/usr/local/lib/python3.7/dist-packages/google_auth_oauthlib/flow.py\", line 412, in run_console\n",
            "    code = input(authorization_code_message)\n",
            "KeyboardInterrupt\n"
          ],
          "name": "stdout"
        }
      ]
    },
    {
      "cell_type": "code",
      "metadata": {
        "colab": {
          "base_uri": "https://localhost:8080/"
        },
        "id": "NbIM2m2cao7H",
        "outputId": "767dee50-1faa-44a1-a2ab-f137d50d240c"
      },
      "source": [
        ""
      ],
      "execution_count": 88,
      "outputs": [
        {
          "output_type": "execute_result",
          "data": {
            "text/plain": [
              "762"
            ]
          },
          "metadata": {
            "tags": []
          },
          "execution_count": 88
        }
      ]
    }
  ]
}